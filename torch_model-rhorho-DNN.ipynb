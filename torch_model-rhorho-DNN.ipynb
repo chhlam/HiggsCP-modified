{
 "cells": [
  {
   "cell_type": "code",
   "execution_count": 1,
   "id": "87e49442",
   "metadata": {},
   "outputs": [],
   "source": [
    "import numpy as np\n",
    "import torch\n",
    "import torch.nn as nn\n",
    "import torch.nn.functional as F\n",
    "import pickle\n",
    "from tqdm.notebook import tqdm\n",
    "from Eearly_stop import *\n",
    "from sklearn.metrics import roc_auc_score, accuracy_score\n",
    "import sys\n",
    "import pandas as pd\n",
    "import argparse\n",
    "import os\n",
    "import matplotlib.pyplot as plt\n",
    "import warnings\n",
    "warnings.filterwarnings('ignore')\n",
    "import math\n",
    "from torch.utils.data import Dataset, DataLoader\n",
    "from src_py.cpmix_utils import preprocess_data\n",
    "from src_py.rhorho import RhoRhoEvent\n",
    "from src_py.a1a1 import A1A1Event\n",
    "from src_py.a1rho import A1RhoEvent\n",
    "from src_py.data_utils import read_np, EventDatasets\n",
    "from src_py.process_background import convert_bkgd_raw\n",
    "import train_rhorho, train_a1rho, train_a1a1\n",
    "from src_py.metrics_utils import calculate_deltas_unsigned, calculate_deltas_signed"
   ]
  },
  {
   "cell_type": "code",
   "execution_count": 2,
   "id": "a5e91a9a",
   "metadata": {},
   "outputs": [
    {
     "name": "stdout",
     "output_type": "stream",
     "text": [
      "Using cpu device\n"
     ]
    }
   ],
   "source": [
    "device = torch.device('cuda:0') if torch.cuda.is_available() else torch.device('cpu')\n",
    "print('Using {} device'.format(device))"
   ]
  },
  {
   "cell_type": "code",
   "execution_count": 3,
   "id": "da403d8d",
   "metadata": {},
   "outputs": [],
   "source": [
    "decaymodes = ['rhorho', 'a1rho', 'a1a1']\n",
    "types = {\"nn_rhorho\": train_rhorho.start,\"nn_a1rho\": train_a1rho.start,\"nn_a1a1\": train_a1a1.start}\n",
    "parser = argparse.ArgumentParser(description='Train classifier')\n",
    "\n",
    "parser.add_argument(\"--num_classes\", dest=\"NUM_CLASSES\", type=int, default=11)\n",
    "parser.add_argument(\"-l\", \"--layers\", dest=\"LAYERS\", type=int, help = \"number of NN layers\", default=6)\n",
    "parser.add_argument(\"-s\", \"--size\", dest=\"SIZE\", type=int, help=\"NN size\", default=100)\n",
    "parser.add_argument(\"-lambda\", \"--lambda\", type=float, dest=\"LAMBDA\", help=\"value of lambda parameter\", default=0.0)\n",
    "parser.add_argument(\"-m\", \"--method\", dest=\"METHOD\", choices=[\"A\", \"B\", \"C\"], default=\"A\")\n",
    "parser.add_argument(\"-o\", \"--optimizer\", dest=\"OPT\", \n",
    "    choices=[\"GradientDescentOptimizer\", \"AdadeltaOptimizer\", \"AdagradOptimizer\",\n",
    "         \"ProximalAdagradOptimizer\", \"AdamOptimizer\", \"FtrlOptimizer\",\n",
    "         \"ProximalGradientDescentOptimizer\", \"RMSPropOptimizer\"], default=\"AdamOptimizer\")\n",
    "parser.add_argument(\"-d\", \"--dropout\", dest=\"DROPOUT\", type=float, default=0.0)\n",
    "parser.add_argument(\"-e\", \"--epochs\", dest=\"EPOCHS\", type=int, default=3)\n",
    "# parser.add_argument(\"-f\", \"--features\", dest=\"FEAT\", help=\"Features\", default=\"Variant-All\")\n",
    "# #         choices= [\"Variant-All\", \"Variant-1.0\", \"Variant-1.1\", \"Variant-2.0\", \"Variant-2.1\",\n",
    "# #                   \"Variant-2.2\", \"Variant-3.0\", \"Variant-3.1\", \"Variant-4.0\", \"Variant-4.1\"])\n",
    "\n",
    "########### Change this to according dir to download data #######################\n",
    "parser.add_argument(\"-i\", \"--input\", dest=\"IN\", default='/home/anderson/higgs_data/rhorho')\n",
    "\n",
    "parser.add_argument(\"--miniset\", dest=\"MINISET\", type=lambda s: s.lower() in ['true', 't', 'yes', '1'], default=False)\n",
    "parser.add_argument(\"--z_noise_fraction\", dest=\"Z_NOISE_FRACTION\", type=float, default=0.0)\n",
    "\n",
    "parser.add_argument(\"--delt_classes\", dest=\"DELT_CLASSES\", type=int, default=0,\n",
    "                    help='Maximal distance between predicted and valid class for event being considered as correctly classified')\n",
    "\n",
    "parser.add_argument(\"--unweighted\", dest=\"UNWEIGHTED\", type=lambda s: s.lower() in ['true', 't', 'yes', '1'], default=False)\n",
    "parser.add_argument(\"--reuse_weights\", dest=\"REUSE_WEIGHTS\", type=bool, default=False)\n",
    "parser.add_argument(\"--restrict_most_probable_angle\", dest=\"RESTRICT_MOST_PROBABLE_ANGLE\", type=bool, default=False)\n",
    "parser.add_argument(\"--force_download\", dest=\"FORCE_DOWNLOAD\", type=bool, default=False)\n",
    "parser.add_argument(\"--normalize_weights\", dest=\"NORMALIZE_WEIGHTS\", type=bool, default=False)\n",
    "\n",
    "\n",
    "parser.add_argument(\"--beta\",  type=float, dest=\"BETA\", help=\"value of beta parameter for polynomial smearing\", default=0.0)\n",
    "parser.add_argument(\"--pol_b\", type=float, dest=\"pol_b\", help=\"value of b parameter for polynomial smearing\", default=0.0)\n",
    "parser.add_argument(\"--pol_c\", type=float, dest=\"pol_c\", help=\"value of c parameter for polynomial smearing\", default=0.0)\n",
    "\n",
    "parser.add_argument(\"--w1\", dest=\"W1\")\n",
    "parser.add_argument(\"--w2\", dest=\"W2\")\n",
    "parser.add_argument(\"--f\", dest=\"FEAT\", default=\"Variant-All\")\n",
    "parser.add_argument(\"--plot_features\", dest=\"PLOT_FEATURES\", choices=[\"NO\", \"FILTER\", \"NO-FILTER\"], default=\"NO\")\n",
    "parser.add_argument(\"--training_method\", dest=\"TRAINING_METHOD\", choices=[\"soft_weights\", \"soft_c012s\",  \"soft_argmaxs\", \"regr_c012s\", \"regr_weights\", \"regr_argmaxs\"], default=\"soft_weights\")\n",
    "parser.add_argument(\"--hits_c012s\", dest=\"HITS_C012s\", choices=[\"hits_c0s\", \"hits_c1s\",  \"hits_c2s\"], default=\"hits_c0s\")\n",
    "\n",
    "######Change this to according type (rhorho, a1rho, a1a1)#######################\n",
    "parser.add_argument(\"-t\", \"--type\", dest=\"TYPE\", choices=types.keys(), default='nn_rhorho')\n",
    "\n",
    "parser.add_argument(\"-r\", \"--reprocess\", dest=\"REPRO\", type=bool, default=False)\n",
    "\n",
    "parser.add_argument(\"-bkgd\", \"--bkgdpath\", dest=\"BKGDPATH\", default='/home/anderson/Ztt_raw/pythia.Z_115_135.%s.1M.*.outTUPLE_labFrame')\n",
    "parser.add_argument(\"--train_bkgd\", dest=\"TRAINBKGD\", default=False)\n",
    "parser.add_argument(\"--z_fraction\", dest=\"Z_FRACTION\", type=float, default=0.0)\n",
    "\n",
    "args, unknown = parser.parse_known_args()"
   ]
  },
  {
   "cell_type": "markdown",
   "id": "ea597406",
   "metadata": {},
   "source": [
    "### Preprocessing signal samples from all the decaymodes"
   ]
  },
  {
   "cell_type": "code",
   "execution_count": 4,
   "id": "7f9392ae",
   "metadata": {},
   "outputs": [
    {
     "name": "stdout",
     "output_type": "stream",
     "text": [
      "Welcome to JupyROOT 6.24/06\n"
     ]
    }
   ],
   "source": [
    "from ROOT import Math\n",
    "\n",
    "def Cart4DToPtEtaPhiE(data):\n",
    "    print(\"Converting p4 to HEP coordinates\")\n",
    "    df_data = pd.DataFrame(data)\n",
    "    \n",
    "    particle_name = ['n', 'pi-', 'pi0_1', 'an', 'pi+', 'pi0_2']\n",
    "    df_data.columns = pd.MultiIndex.from_arrays([sum([[x]*4 for x in particle_name],[]), ['p_x', 'p_y', 'p_z', 'E']*6])\n",
    "\n",
    "    particle_PtEtaPhiE={}\n",
    "    for particle in particle_name:\n",
    "        total_res = {}\n",
    "        for index, row in tqdm(df_data[particle].iterrows(),total=df_data[particle].shape[0]):\n",
    "            res = Math.PxPyPzEVector(*row.values.tolist())\n",
    "            total_res[index] = (res.pt(), res.eta(), res.phi(), res.e())\n",
    "        particle_PtEtaPhiE[particle] = total_res\n",
    "\n",
    "    PtEtaPhiE = [pd.DataFrame(particle_PtEtaPhiE[particle].values(), columns=[particle+x for x in ['_pt','_eta','_phi','_E']]) for particle in particle_name]\n",
    "    return PtEtaPhiE"
   ]
  },
  {
   "cell_type": "code",
   "execution_count": 5,
   "id": "a341cf9d",
   "metadata": {
    "scrolled": false
   },
   "outputs": [],
   "source": [
    "events={'nn_rhorho':'RhoRhoEvent', 'nn_a1rho':'A1RhoEvent', 'nn_a1a1':'A1A1Event'}\n",
    "if args.REPRO:\n",
    "    for decaymode in tqdm(decaymodes):\n",
    "        points = []\n",
    "        args.IN = '/home/anderson/higgs_data/'+decaymode\n",
    "        args.TYPE = 'nn_'+decaymode\n",
    "        data, weights, argmaxs, perm, c012s, hits_argmaxs, hits_c012s = preprocess_data(args)\n",
    "        event = RhoRhoEvent(data, args)\n",
    "        # convert p4 to HEP coordinates\n",
    "        raw_df = Cart4DToPtEtaPhiE(event.cols)\n",
    "        raw_df_concat = pd.concat(raw_df, axis=1)\n",
    "        event.cols = np.append(raw_df_concat.to_numpy(),np.zeros([len(event.cols),1]),1)\n",
    "        points.append(EventDatasets(event, weights, argmaxs, perm, c012s=c012s, hits_argmaxs=hits_argmaxs, hits_c012s=hits_c012s, miniset=args.MINISET, unweighted=args.UNWEIGHTED))\n",
    "        pickle.dump(points,open(args.IN+'/events_PtEtaPhiE.pk','wb'))\n",
    "        break"
   ]
  },
  {
   "cell_type": "code",
   "execution_count": 6,
   "id": "006cd6ac",
   "metadata": {},
   "outputs": [],
   "source": [
    "# position={'nn_rhorho':[0,1,4,5,6,7], 'nn_a1rho':[0,1,2,3,5,6,7], 'nn_a1a1':[0,1,2,3,5,6,8,9]}"
   ]
  },
  {
   "cell_type": "markdown",
   "id": "13cee035",
   "metadata": {},
   "source": [
    "### Loading signal samples"
   ]
  },
  {
   "cell_type": "code",
   "execution_count": 6,
   "id": "f6a38fcd",
   "metadata": {},
   "outputs": [],
   "source": [
    "points=pickle.load(open(args.IN+'/events_PtEtaPhiE.pk','rb'))\n",
    "# points=pickle.load(open(args.IN+'/events_wo_background.pk','rb'))\n",
    "# points=pickle.load(open(args.IN+'/events_w_background.pk','rb')) # training with signal & background "
   ]
  },
  {
   "cell_type": "markdown",
   "id": "9e548b8b",
   "metadata": {},
   "source": [
    "### Training NN"
   ]
  },
  {
   "cell_type": "code",
   "execution_count": 7,
   "id": "47078747",
   "metadata": {},
   "outputs": [],
   "source": [
    "batch_size=512"
   ]
  },
  {
   "cell_type": "code",
   "execution_count": 8,
   "id": "39972924",
   "metadata": {},
   "outputs": [],
   "source": [
    "class MyDataset(Dataset):\n",
    "    def __init__(self, rhorho_data_mc,rhorho_data_true,rhorho_labels_mc,rhorho_labels_true):\n",
    "        self.rhorho_data_mc = torch.from_numpy(rhorho_data_mc).float().to(device)\n",
    "        self.rhorho_data_true = torch.from_numpy(rhorho_data_true).float().to(device)\n",
    "        \n",
    "        self.rhorho_labels_mc =torch.from_numpy(rhorho_labels_mc).float().to(device)\n",
    "        self.rhorho_labels_true =torch.from_numpy(rhorho_labels_true).float().to(device)\n",
    "    def __getitem__(self, index):\n",
    "        return self.rhorho_data_mc[index],self.rhorho_data_true[index],self.rhorho_labels_mc[index],self.rhorho_labels_true[index]\n",
    "    def __len__(self):\n",
    "        return min(len(self.rhorho_labels_mc),len(self.rhorho_labels_true))"
   ]
  },
  {
   "cell_type": "code",
   "execution_count": 9,
   "id": "2404402b",
   "metadata": {},
   "outputs": [],
   "source": [
    "class NeuralNetwork(nn.Module):\n",
    "    def __init__(self, num_features, num_classes, num_layers=1, size=100, lr=1e-3, drop_prob=0, inplace=False, \n",
    "                 tloss=\"regr_weights\", activation='linear', input_noise=0.0, optimizer=\"AdamOptimizer\"):\n",
    "        super(NeuralNetwork, self).__init__()\n",
    "        self.linear1 = nn.Linear(num_features,size,bias=False)\n",
    "        layers = []\n",
    "        for i in range(num_layers):\n",
    "            layers.extend([nn.Linear(size,size,bias=False),\n",
    "                           nn.BatchNorm1d(size),\n",
    "                           nn.ReLU(),\n",
    "                           nn.Dropout(drop_prob, inplace)\n",
    "                          ])\n",
    "        self.linear_relu_stack = nn.Sequential(*layers)\n",
    "        self.linear2 = nn.Linear(size,num_classes,bias=False)\n",
    "        self.linear3 = nn.Linear(size,2,bias=False)\n",
    "    def forward(self, x):\n",
    "        x = self.linear1(x)\n",
    "        x = self.linear_relu_stack(x)\n",
    "        out = self.linear2(x)\n",
    "        return out"
   ]
  },
  {
   "cell_type": "code",
   "execution_count": 10,
   "id": "dafcb9d3",
   "metadata": {},
   "outputs": [],
   "source": [
    "particle_idx=0\n",
    "\n",
    "mc_train_idx=np.random.choice(np.arange(points[particle_idx].train.x.shape[0]),int(points[particle_idx].train.x.shape[0]*0.5),replace=False)\n",
    "true_train_idx=list(set(np.arange(points[particle_idx].train.x.shape[0]))-set(mc_train_idx))\n",
    "\n",
    "mc_valid_idx=np.random.choice(np.arange(points[particle_idx].valid.x.shape[0]),int(points[particle_idx].valid.x.shape[0]*0.5),replace=False)\n",
    "true_valid_idx=list(set(np.arange(points[particle_idx].valid.x.shape[0]))-set(mc_train_idx))\n",
    "\n",
    "mc_test_idx=np.random.choice(np.arange(points[particle_idx].test.x.shape[0]),int(points[particle_idx].test.x.shape[0]*0.5),replace=False)\n",
    "true_test_idx=list(set(np.arange(points[particle_idx].test.x.shape[0]))-set(mc_train_idx))"
   ]
  },
  {
   "cell_type": "code",
   "execution_count": 11,
   "id": "5037f942",
   "metadata": {},
   "outputs": [],
   "source": [
    "uncertainty=0.0\n",
    "\n",
    "train_datasets = MyDataset(points[particle_idx].train.x[mc_train_idx], points[particle_idx].train.x[true_train_idx]+uncertainty*np.random.normal(0,1,size=points[particle_idx].train.x[true_train_idx].shape),\n",
    "                          points[particle_idx].train.weights[mc_train_idx],points[particle_idx].train.weights[true_train_idx])\n",
    "train_loader = DataLoader(dataset = train_datasets,batch_size = batch_size,shuffle = True)\n",
    "\n",
    "\n",
    "valid_datasets = MyDataset(points[particle_idx].valid.x[mc_valid_idx], points[particle_idx].valid.x[true_valid_idx]+uncertainty*np.random.normal(0,1,size=points[particle_idx].valid.x[true_valid_idx].shape),\n",
    "                          points[particle_idx].valid.weights[mc_valid_idx],points[particle_idx].valid.weights[true_valid_idx])\n",
    "valid_loader = DataLoader(dataset = valid_datasets,batch_size = batch_size,shuffle = True)\n",
    "\n",
    "\n",
    "test_datasets = MyDataset(points[particle_idx].test.x[mc_test_idx], points[particle_idx].test.x[true_test_idx]+uncertainty*np.random.normal(0,1,size=points[particle_idx].test.x[true_test_idx].shape),\n",
    "                          points[particle_idx].test.weights[mc_test_idx],points[particle_idx].test.weights[true_test_idx])\n",
    "test_loader = DataLoader(dataset = test_datasets,batch_size = batch_size,shuffle = True)"
   ]
  },
  {
   "cell_type": "code",
   "execution_count": 12,
   "id": "1c7064d7",
   "metadata": {},
   "outputs": [],
   "source": [
    "model = NeuralNetwork(num_features=points[particle_idx].train.x.shape[1], num_classes=args.NUM_CLASSES,num_layers=args.LAYERS,drop_prob=0).to(device)\n",
    "opt_g = torch.optim.Adam(model.parameters(),lr=1e-3)\n",
    "criterion = nn.CrossEntropyLoss()\n",
    "early_stopping = EarlyStopping(patience=10, verbose=True,path='model/pTEtaPhiE_test.pt')"
   ]
  },
  {
   "cell_type": "code",
   "execution_count": 14,
   "id": "8691c833",
   "metadata": {
    "scrolled": true
   },
   "outputs": [
    {
     "name": "stdout",
     "output_type": "stream",
     "text": [
      " training loss: 1.776 \t acc: 0.317 \t\n",
      " validation loss: 1.287 \t acc: 0.484 \t\n",
      "Validation loss decreased (inf --> -0.483940).  Saving model ...\n",
      "\n",
      " training loss: 1.179 \t acc: 0.521 \t\n",
      " validation loss: 1.018 \t acc: 0.584 \t\n",
      "Validation loss decreased (-0.483940 --> -0.584280).  Saving model ...\n",
      "\n",
      " training loss: 1.016 \t acc: 0.580 \t\n",
      " validation loss: 0.959 \t acc: 0.597 \t\n",
      "Validation loss decreased (-0.584280 --> -0.596880).  Saving model ...\n",
      "\n",
      " training loss: 0.936 \t acc: 0.611 \t\n",
      " validation loss: 0.828 \t acc: 0.658 \t\n",
      "Validation loss decreased (-0.596880 --> -0.657900).  Saving model ...\n",
      "\n",
      " training loss: 0.877 \t acc: 0.635 \t\n",
      " validation loss: 0.762 \t acc: 0.687 \t\n",
      "Validation loss decreased (-0.657900 --> -0.686720).  Saving model ...\n",
      "\n",
      " training loss: 0.842 \t acc: 0.648 \t\n",
      " validation loss: 0.741 \t acc: 0.695 \t\n",
      "Validation loss decreased (-0.686720 --> -0.695340).  Saving model ...\n",
      "\n",
      " training loss: 0.811 \t acc: 0.660 \t\n",
      " validation loss: 0.690 \t acc: 0.719 \t\n",
      "Validation loss decreased (-0.695340 --> -0.719160).  Saving model ...\n",
      "\n",
      " training loss: 0.791 \t acc: 0.667 \t\n",
      " validation loss: 0.665 \t acc: 0.726 \t\n",
      "Validation loss decreased (-0.719160 --> -0.725660).  Saving model ...\n",
      "\n",
      " training loss: 0.779 \t acc: 0.673 \t\n",
      " validation loss: 0.656 \t acc: 0.729 \t\n",
      "Validation loss decreased (-0.725660 --> -0.729420).  Saving model ...\n",
      "\n",
      " training loss: 0.760 \t acc: 0.681 \t\n",
      " validation loss: 0.626 \t acc: 0.746 \t\n",
      "Validation loss decreased (-0.729420 --> -0.746140).  Saving model ...\n",
      "\n",
      " training loss: 0.741 \t acc: 0.688 \t\n",
      " validation loss: 0.622 \t acc: 0.748 \t\n",
      "Validation loss decreased (-0.746140 --> -0.748300).  Saving model ...\n",
      "\n",
      " training loss: 0.738 \t acc: 0.688 \t\n",
      " validation loss: 0.588 \t acc: 0.766 \t\n",
      "Validation loss decreased (-0.748300 --> -0.766400).  Saving model ...\n",
      "\n",
      " training loss: 0.715 \t acc: 0.698 \t\n",
      " validation loss: 0.582 \t acc: 0.767 \t\n",
      "Validation loss decreased (-0.766400 --> -0.766560).  Saving model ...\n",
      "\n",
      " training loss: 0.714 \t acc: 0.700 \t\n",
      " validation loss: 0.581 \t acc: 0.765 \t\n",
      "EarlyStopping counter: 1 out of 10\n",
      "\n",
      " training loss: 0.706 \t acc: 0.701 \t\n",
      " validation loss: 0.569 \t acc: 0.771 \t\n",
      "Validation loss decreased (-0.766560 --> -0.771460).  Saving model ...\n",
      "\n",
      " training loss: 0.683 \t acc: 0.712 \t\n",
      " validation loss: 0.556 \t acc: 0.775 \t\n",
      "Validation loss decreased (-0.771460 --> -0.775380).  Saving model ...\n",
      "\n",
      " training loss: 0.692 \t acc: 0.708 \t\n",
      " validation loss: 0.564 \t acc: 0.772 \t\n",
      "EarlyStopping counter: 1 out of 10\n",
      "\n",
      " training loss: 0.680 \t acc: 0.712 \t\n",
      " validation loss: 0.563 \t acc: 0.769 \t\n",
      "EarlyStopping counter: 2 out of 10\n",
      "\n",
      " training loss: 0.681 \t acc: 0.712 \t\n",
      " validation loss: 0.543 \t acc: 0.786 \t\n",
      "Validation loss decreased (-0.775380 --> -0.785520).  Saving model ...\n",
      "\n",
      " training loss: 0.673 \t acc: 0.715 \t\n",
      " validation loss: 0.558 \t acc: 0.777 \t\n",
      "EarlyStopping counter: 1 out of 10\n",
      "\n",
      " training loss: 0.665 \t acc: 0.718 \t\n",
      " validation loss: 0.551 \t acc: 0.775 \t\n",
      "EarlyStopping counter: 2 out of 10\n",
      "\n",
      " training loss: 0.657 \t acc: 0.722 \t\n",
      " validation loss: 0.535 \t acc: 0.784 \t\n",
      "EarlyStopping counter: 3 out of 10\n",
      "\n",
      " training loss: 0.653 \t acc: 0.724 \t\n",
      " validation loss: 0.539 \t acc: 0.776 \t\n",
      "EarlyStopping counter: 4 out of 10\n",
      "\n",
      " training loss: 0.643 \t acc: 0.727 \t\n",
      " validation loss: 0.514 \t acc: 0.794 \t\n",
      "Validation loss decreased (-0.785520 --> -0.794140).  Saving model ...\n",
      "\n",
      " training loss: 0.643 \t acc: 0.728 \t\n",
      " validation loss: 0.497 \t acc: 0.805 \t\n",
      "Validation loss decreased (-0.794140 --> -0.805340).  Saving model ...\n",
      "\n",
      " training loss: 0.639 \t acc: 0.729 \t\n",
      " validation loss: 0.507 \t acc: 0.795 \t\n",
      "EarlyStopping counter: 1 out of 10\n",
      "\n",
      " training loss: 0.636 \t acc: 0.731 \t\n",
      " validation loss: 0.503 \t acc: 0.801 \t\n",
      "EarlyStopping counter: 2 out of 10\n",
      "\n",
      " training loss: 0.630 \t acc: 0.734 \t\n",
      " validation loss: 0.495 \t acc: 0.803 \t\n",
      "EarlyStopping counter: 3 out of 10\n",
      "\n",
      " training loss: 0.632 \t acc: 0.733 \t\n",
      " validation loss: 0.513 \t acc: 0.792 \t\n",
      "EarlyStopping counter: 4 out of 10\n",
      "\n",
      " training loss: 0.625 \t acc: 0.735 \t\n",
      " validation loss: 0.489 \t acc: 0.805 \t\n",
      "Validation loss decreased (-0.805340 --> -0.805480).  Saving model ...\n",
      "\n",
      " training loss: 0.621 \t acc: 0.738 \t\n",
      " validation loss: 0.493 \t acc: 0.804 \t\n",
      "EarlyStopping counter: 1 out of 10\n",
      "\n",
      " training loss: 0.617 \t acc: 0.739 \t\n",
      " validation loss: 0.484 \t acc: 0.807 \t\n",
      "Validation loss decreased (-0.805480 --> -0.806920).  Saving model ...\n",
      "\n",
      " training loss: 0.619 \t acc: 0.740 \t\n",
      " validation loss: 0.512 \t acc: 0.789 \t\n",
      "EarlyStopping counter: 1 out of 10\n",
      "\n",
      " training loss: 0.610 \t acc: 0.742 \t\n",
      " validation loss: 0.483 \t acc: 0.809 \t\n",
      "Validation loss decreased (-0.806920 --> -0.808740).  Saving model ...\n",
      "\n",
      " training loss: 0.610 \t acc: 0.742 \t\n",
      " validation loss: 0.482 \t acc: 0.804 \t\n",
      "EarlyStopping counter: 1 out of 10\n",
      "\n",
      " training loss: 0.607 \t acc: 0.743 \t\n",
      " validation loss: 0.478 \t acc: 0.810 \t\n",
      "Validation loss decreased (-0.808740 --> -0.810040).  Saving model ...\n",
      "\n",
      " training loss: 0.601 \t acc: 0.746 \t\n",
      " validation loss: 0.464 \t acc: 0.815 \t\n",
      "Validation loss decreased (-0.810040 --> -0.814500).  Saving model ...\n",
      "\n",
      " training loss: 0.606 \t acc: 0.743 \t\n",
      " validation loss: 0.491 \t acc: 0.801 \t\n",
      "EarlyStopping counter: 1 out of 10\n",
      "\n",
      " training loss: 0.604 \t acc: 0.744 \t\n",
      " validation loss: 0.473 \t acc: 0.810 \t\n",
      "EarlyStopping counter: 2 out of 10\n",
      "\n",
      " training loss: 0.602 \t acc: 0.745 \t\n",
      " validation loss: 0.468 \t acc: 0.813 \t\n",
      "EarlyStopping counter: 3 out of 10\n",
      "\n",
      " training loss: 0.596 \t acc: 0.748 \t\n",
      " validation loss: 0.470 \t acc: 0.814 \t\n",
      "EarlyStopping counter: 4 out of 10\n",
      "\n",
      " training loss: 0.593 \t acc: 0.749 \t\n",
      " validation loss: 0.451 \t acc: 0.823 \t\n",
      "Validation loss decreased (-0.814500 --> -0.823220).  Saving model ...\n",
      "\n",
      " training loss: 0.592 \t acc: 0.750 \t\n",
      " validation loss: 0.457 \t acc: 0.817 \t\n",
      "EarlyStopping counter: 1 out of 10\n",
      "\n",
      " training loss: 0.587 \t acc: 0.752 \t\n",
      " validation loss: 0.457 \t acc: 0.819 \t\n",
      "EarlyStopping counter: 2 out of 10\n",
      "\n",
      " training loss: 0.598 \t acc: 0.747 \t\n",
      " validation loss: 0.468 \t acc: 0.813 \t\n",
      "EarlyStopping counter: 3 out of 10\n",
      "\n",
      " training loss: 0.587 \t acc: 0.752 \t\n",
      " validation loss: 0.455 \t acc: 0.820 \t\n",
      "EarlyStopping counter: 4 out of 10\n",
      "\n",
      " training loss: 0.579 \t acc: 0.755 \t\n",
      " validation loss: 0.439 \t acc: 0.831 \t\n",
      "Validation loss decreased (-0.823220 --> -0.830980).  Saving model ...\n",
      "\n",
      " training loss: 0.583 \t acc: 0.753 \t\n",
      " validation loss: 0.509 \t acc: 0.785 \t\n",
      "EarlyStopping counter: 1 out of 10\n",
      "\n",
      " training loss: 0.578 \t acc: 0.755 \t\n",
      " validation loss: 0.453 \t acc: 0.818 \t\n",
      "EarlyStopping counter: 2 out of 10\n",
      "\n",
      " training loss: 0.583 \t acc: 0.754 \t\n",
      " validation loss: 0.448 \t acc: 0.825 \t\n",
      "EarlyStopping counter: 3 out of 10\n",
      "\n",
      " training loss: 0.583 \t acc: 0.753 \t\n",
      " validation loss: 0.451 \t acc: 0.819 \t\n",
      "EarlyStopping counter: 4 out of 10\n",
      "\n",
      " training loss: 0.582 \t acc: 0.753 \t\n",
      " validation loss: 0.455 \t acc: 0.815 \t\n",
      "EarlyStopping counter: 5 out of 10\n",
      "\n",
      " training loss: 0.573 \t acc: 0.758 \t\n",
      " validation loss: 0.448 \t acc: 0.822 \t\n",
      "EarlyStopping counter: 6 out of 10\n",
      "\n",
      " training loss: 0.565 \t acc: 0.760 \t\n",
      " validation loss: 0.450 \t acc: 0.820 \t\n",
      "EarlyStopping counter: 7 out of 10\n",
      "\n",
      " training loss: 0.579 \t acc: 0.755 \t\n",
      " validation loss: 0.449 \t acc: 0.822 \t\n",
      "EarlyStopping counter: 8 out of 10\n",
      "\n",
      " training loss: 0.574 \t acc: 0.757 \t\n",
      " validation loss: 0.459 \t acc: 0.815 \t\n",
      "EarlyStopping counter: 9 out of 10\n",
      "\n",
      " training loss: 0.568 \t acc: 0.760 \t\n",
      " validation loss: 0.451 \t acc: 0.818 \t\n",
      "EarlyStopping counter: 10 out of 10\n",
      "Early stopping\n"
     ]
    }
   ],
   "source": [
    "epoch=200\n",
    "training_loss=[]\n",
    "validation_loss=[]\n",
    "\n",
    "for i in range(epoch):\n",
    "    # training step\n",
    "    model.train()\n",
    "    train_loss,train_acc,train_numbers = 0,0,0\n",
    "    for batch_idx, (rhorho_s,rhorho_t,label_s,label_t) in enumerate(train_loader):\n",
    "        opt_g.zero_grad()\n",
    "        rhorho_s = rhorho_s[label_s.sum(axis=1)!=0]\n",
    "        label_s = label_s[label_s.sum(axis=1)!=0]\n",
    "        outputs = model(rhorho_s)\n",
    "        if isinstance(criterion,nn.CrossEntropyLoss):\n",
    "            loss=criterion(outputs,torch.argmax(label_s,axis=1))\n",
    "        else:\n",
    "            loss=criterion(outputs,label_s)\n",
    "        loss.backward()\n",
    "        opt_g.step()\n",
    "        _, predictions = torch.max(outputs, 1)\n",
    "        train_loss += loss.item()*len(rhorho_s)\n",
    "        train_acc += (predictions==torch.argmax(label_s,axis=1)).sum().item()\n",
    "        train_numbers += len(rhorho_s)\n",
    "        print('\\r training loss: %.3f \\t acc: %.3f \\t' %(train_loss/train_numbers,train_acc/train_numbers),end='')\n",
    "    print()\n",
    "    training_loss.append(train_loss/train_numbers)\n",
    "    \n",
    "    # validation step\n",
    "    model.eval()\n",
    "    valid_loss,valid_acc,valid_numbers = 0,0,0\n",
    "    with torch.no_grad():\n",
    "        for batch_idx, (rhorho_s,rhorho_t,label_s,label_t) in enumerate(valid_loader):\n",
    "            rhorho_s = rhorho_s[label_s.sum(axis=1)!=0]\n",
    "            label_s = label_s[label_s.sum(axis=1)!=0]\n",
    "            outputs = model(rhorho_s)\n",
    "            if isinstance(criterion,nn.CrossEntropyLoss):\n",
    "                loss=criterion(outputs,torch.argmax(label_s,axis=1))\n",
    "            else:\n",
    "                loss=criterion(outputs,label_s)\n",
    "            _, predictions = torch.max(outputs, 1)\n",
    "            valid_loss += loss.item()*len(rhorho_s)\n",
    "            valid_acc += (predictions==torch.argmax(label_s,axis=1)).sum().item()\n",
    "            valid_numbers += len(rhorho_s)\n",
    "            print('\\r validation loss: %.3f \\t acc: %.3f \\t' %(valid_loss/valid_numbers,valid_acc/valid_numbers),end='')\n",
    "    print()\n",
    "    validation_loss.append(valid_loss/valid_numbers)\n",
    "\n",
    "    # early stopping\n",
    "    early_stopping(-valid_acc/valid_numbers,model)\n",
    "    if early_stopping.early_stop:\n",
    "        print(\"Early stopping\")\n",
    "        break\n",
    "    print()"
   ]
  },
  {
   "cell_type": "code",
   "execution_count": 15,
   "id": "de3197fb",
   "metadata": {},
   "outputs": [
    {
     "data": {
      "image/png": "[encoded data removed]",
      "text/plain": [
       "<Figure size 432x288 with 1 Axes>"
      ]
     },
     "metadata": {
      "needs_background": "light"
     },
     "output_type": "display_data"
    }
   ],
   "source": [
    "plt.plot(training_loss, label=\"Training loss\")\n",
    "plt.plot(validation_loss, label=\"Validation loss\")\n",
    "\n",
    "plt.legend()\n",
    "\n",
    "plt.xlabel(\"Epoch\")\n",
    "plt.ylabel(\"Loss\")\n",
    "\n",
    "plt.show()"
   ]
  },
  {
   "cell_type": "markdown",
   "id": "ab8eb181",
   "metadata": {},
   "source": [
    "### Converting bkgd raw data into npy"
   ]
  },
  {
   "cell_type": "code",
   "execution_count": 77,
   "id": "4a605ea5",
   "metadata": {},
   "outputs": [],
   "source": [
    "#convert_bkgd_raw(args.BKGDPATH)"
   ]
  },
  {
   "cell_type": "markdown",
   "id": "e1555fd9",
   "metadata": {},
   "source": [
    "### Preprocessing singal and bkgd from all the decaymodes"
   ]
  },
  {
   "cell_type": "code",
   "execution_count": 49,
   "id": "f30480ce",
   "metadata": {},
   "outputs": [
    {
     "data": {
      "application/vnd.jupyter.widget-view+json": {
       "model_id": "d3e0a7e7c5fa4c5bb981b91ddc716704",
       "version_major": 2,
       "version_minor": 0
      },
      "text/plain": [
       "  0%|          | 0/3 [00:00<?, ?it/s]"
      ]
     },
     "metadata": {},
     "output_type": "display_data"
    },
    {
     "name": "stdout",
     "output_type": "stream",
     "text": [
      "Loading data\n",
      "Read 1000000 events\n"
     ]
    },
    {
     "ename": "KeyboardInterrupt",
     "evalue": "",
     "output_type": "error",
     "traceback": [
      "\u001b[0;31m---------------------------------------------------------------------------\u001b[0m",
      "\u001b[0;31mKeyboardInterrupt\u001b[0m                         Traceback (most recent call last)",
      "\u001b[0;32m/tmp/ipykernel_5501/2069815792.py\u001b[0m in \u001b[0;36m<module>\u001b[0;34m\u001b[0m\n\u001b[1;32m      6\u001b[0m         \u001b[0margs\u001b[0m\u001b[0;34m.\u001b[0m\u001b[0mIN\u001b[0m \u001b[0;34m=\u001b[0m \u001b[0;34m'/home/anderson/higgs_data/'\u001b[0m\u001b[0;34m+\u001b[0m\u001b[0mdecaymode\u001b[0m\u001b[0;34m\u001b[0m\u001b[0;34m\u001b[0m\u001b[0m\n\u001b[1;32m      7\u001b[0m         \u001b[0margs\u001b[0m\u001b[0;34m.\u001b[0m\u001b[0mTYPE\u001b[0m \u001b[0;34m=\u001b[0m \u001b[0;34m'nn_'\u001b[0m\u001b[0;34m+\u001b[0m\u001b[0mdecaymode\u001b[0m\u001b[0;34m\u001b[0m\u001b[0;34m\u001b[0m\u001b[0m\n\u001b[0;32m----> 8\u001b[0;31m         \u001b[0mdata\u001b[0m\u001b[0;34m,\u001b[0m \u001b[0mweights\u001b[0m\u001b[0;34m,\u001b[0m \u001b[0margmaxs\u001b[0m\u001b[0;34m,\u001b[0m \u001b[0mperm\u001b[0m\u001b[0;34m,\u001b[0m \u001b[0mc012s\u001b[0m\u001b[0;34m,\u001b[0m \u001b[0mhits_argmaxs\u001b[0m\u001b[0;34m,\u001b[0m \u001b[0mhits_c012s\u001b[0m \u001b[0;34m=\u001b[0m \u001b[0mpreprocess_data\u001b[0m\u001b[0;34m(\u001b[0m\u001b[0margs\u001b[0m\u001b[0;34m)\u001b[0m\u001b[0;34m\u001b[0m\u001b[0;34m\u001b[0m\u001b[0m\n\u001b[0m\u001b[1;32m      9\u001b[0m         \u001b[0mevent\u001b[0m \u001b[0;34m=\u001b[0m \u001b[0meval\u001b[0m\u001b[0;34m(\u001b[0m\u001b[0mevents\u001b[0m\u001b[0;34m[\u001b[0m\u001b[0margs\u001b[0m\u001b[0;34m.\u001b[0m\u001b[0mTYPE\u001b[0m\u001b[0;34m]\u001b[0m\u001b[0;34m)\u001b[0m\u001b[0;34m(\u001b[0m\u001b[0mdata\u001b[0m\u001b[0;34m,\u001b[0m \u001b[0margs\u001b[0m\u001b[0;34m)\u001b[0m\u001b[0;34m\u001b[0m\u001b[0;34m\u001b[0m\u001b[0m\n\u001b[1;32m     10\u001b[0m         \u001b[0mpoints\u001b[0m\u001b[0;34m.\u001b[0m\u001b[0mappend\u001b[0m\u001b[0;34m(\u001b[0m\u001b[0mEventDatasets\u001b[0m\u001b[0;34m(\u001b[0m\u001b[0mevent\u001b[0m\u001b[0;34m,\u001b[0m \u001b[0mweights\u001b[0m\u001b[0;34m,\u001b[0m \u001b[0margmaxs\u001b[0m\u001b[0;34m,\u001b[0m \u001b[0mperm\u001b[0m\u001b[0;34m,\u001b[0m \u001b[0mc012s\u001b[0m\u001b[0;34m=\u001b[0m\u001b[0mc012s\u001b[0m\u001b[0;34m,\u001b[0m \u001b[0mhits_argmaxs\u001b[0m\u001b[0;34m=\u001b[0m\u001b[0mhits_argmaxs\u001b[0m\u001b[0;34m,\u001b[0m  \u001b[0mhits_c012s\u001b[0m\u001b[0;34m=\u001b[0m\u001b[0mhits_c012s\u001b[0m\u001b[0;34m,\u001b[0m \u001b[0mminiset\u001b[0m\u001b[0;34m=\u001b[0m\u001b[0margs\u001b[0m\u001b[0;34m.\u001b[0m\u001b[0mMINISET\u001b[0m\u001b[0;34m,\u001b[0m \u001b[0munweighted\u001b[0m\u001b[0;34m=\u001b[0m\u001b[0margs\u001b[0m\u001b[0;34m.\u001b[0m\u001b[0mUNWEIGHTED\u001b[0m\u001b[0;34m)\u001b[0m\u001b[0;34m)\u001b[0m\u001b[0;34m\u001b[0m\u001b[0;34m\u001b[0m\u001b[0m\n",
      "\u001b[0;32m~/HiggsCP/src_py/cpmix_utils.py\u001b[0m in \u001b[0;36mpreprocess_data\u001b[0;34m(args)\u001b[0m\n\u001b[1;32m    123\u001b[0m         \u001b[0mclasses\u001b[0m \u001b[0;34m=\u001b[0m \u001b[0mnp\u001b[0m\u001b[0;34m.\u001b[0m\u001b[0mlinspace\u001b[0m\u001b[0;34m(\u001b[0m\u001b[0;36m0\u001b[0m\u001b[0;34m,\u001b[0m \u001b[0;36m2\u001b[0m\u001b[0;34m,\u001b[0m \u001b[0mnum_classes\u001b[0m\u001b[0;34m)\u001b[0m \u001b[0;34m*\u001b[0m \u001b[0mnp\u001b[0m\u001b[0;34m.\u001b[0m\u001b[0mpi\u001b[0m\u001b[0;34m\u001b[0m\u001b[0;34m\u001b[0m\u001b[0m\n\u001b[1;32m    124\u001b[0m         \u001b[0mweights\u001b[0m\u001b[0;34m,\u001b[0m \u001b[0margmaxs\u001b[0m\u001b[0;34m,\u001b[0m  \u001b[0mhits_argmaxs\u001b[0m \u001b[0;34m=\u001b[0m \u001b[0mcalc_weights_and_argmaxs\u001b[0m\u001b[0;34m(\u001b[0m\u001b[0mclasses\u001b[0m\u001b[0;34m,\u001b[0m \u001b[0mc012s\u001b[0m\u001b[0;34m,\u001b[0m \u001b[0mdata_len\u001b[0m\u001b[0;34m,\u001b[0m \u001b[0mnum_classes\u001b[0m\u001b[0;34m)\u001b[0m\u001b[0;34m\u001b[0m\u001b[0;34m\u001b[0m\u001b[0m\n\u001b[0;32m--> 125\u001b[0;31m \u001b[0;34m\u001b[0m\u001b[0m\n\u001b[0m\u001b[1;32m    126\u001b[0m         \u001b[0;31m# trying with binary classification\u001b[0m\u001b[0;34m\u001b[0m\u001b[0;34m\u001b[0m\u001b[0m\n\u001b[1;32m    127\u001b[0m         \u001b[0;32mif\u001b[0m \u001b[0margs\u001b[0m\u001b[0;34m.\u001b[0m\u001b[0mTRAINBKGD\u001b[0m \u001b[0;34m==\u001b[0m \u001b[0;32mTrue\u001b[0m\u001b[0;34m:\u001b[0m\u001b[0;34m\u001b[0m\u001b[0;34m\u001b[0m\u001b[0m\n",
      "\u001b[0;32m~/HiggsCP/src_py/cpmix_utils.py\u001b[0m in \u001b[0;36mcalc_weights_and_argmaxs\u001b[0;34m(classes, c012s, data_len, num_classes)\u001b[0m\n\u001b[1;32m     33\u001b[0m \u001b[0;31m# here weights and argmaxs are calculated from continuum distributions\u001b[0m\u001b[0;34m\u001b[0m\u001b[0;34m\u001b[0m\u001b[0m\n\u001b[1;32m     34\u001b[0m \u001b[0;32mdef\u001b[0m \u001b[0mcalc_weights_and_argmaxs\u001b[0m\u001b[0;34m(\u001b[0m\u001b[0mclasses\u001b[0m\u001b[0;34m,\u001b[0m \u001b[0mc012s\u001b[0m\u001b[0;34m,\u001b[0m \u001b[0mdata_len\u001b[0m\u001b[0;34m,\u001b[0m \u001b[0mnum_classes\u001b[0m\u001b[0;34m)\u001b[0m\u001b[0;34m:\u001b[0m\u001b[0;34m\u001b[0m\u001b[0;34m\u001b[0m\u001b[0m\n\u001b[0;32m---> 35\u001b[0;31m     \u001b[0margmaxs\u001b[0m \u001b[0;34m=\u001b[0m \u001b[0mnp\u001b[0m\u001b[0;34m.\u001b[0m\u001b[0mzeros\u001b[0m\u001b[0;34m(\u001b[0m\u001b[0;34m(\u001b[0m\u001b[0mdata_len\u001b[0m\u001b[0;34m,\u001b[0m \u001b[0;36m1\u001b[0m\u001b[0;34m)\u001b[0m\u001b[0;34m)\u001b[0m\u001b[0;34m\u001b[0m\u001b[0;34m\u001b[0m\u001b[0m\n\u001b[0m\u001b[1;32m     36\u001b[0m     \u001b[0mweights\u001b[0m \u001b[0;34m=\u001b[0m \u001b[0mnp\u001b[0m\u001b[0;34m.\u001b[0m\u001b[0mzeros\u001b[0m\u001b[0;34m(\u001b[0m\u001b[0;34m(\u001b[0m\u001b[0mdata_len\u001b[0m\u001b[0;34m,\u001b[0m \u001b[0mnum_classes\u001b[0m\u001b[0;34m)\u001b[0m\u001b[0;34m)\u001b[0m\u001b[0;34m\u001b[0m\u001b[0;34m\u001b[0m\u001b[0m\n\u001b[1;32m     37\u001b[0m     \u001b[0mhits_argmaxs\u001b[0m \u001b[0;34m=\u001b[0m \u001b[0mnp\u001b[0m\u001b[0;34m.\u001b[0m\u001b[0mzeros\u001b[0m\u001b[0;34m(\u001b[0m\u001b[0;34m(\u001b[0m\u001b[0mdata_len\u001b[0m\u001b[0;34m,\u001b[0m \u001b[0mnum_classes\u001b[0m\u001b[0;34m)\u001b[0m\u001b[0;34m)\u001b[0m\u001b[0;34m\u001b[0m\u001b[0;34m\u001b[0m\u001b[0m\n",
      "\u001b[0;31mKeyboardInterrupt\u001b[0m: "
     ]
    }
   ],
   "source": [
    "# events={'nn_rhorho':'RhoRhoEvent', 'nn_a1rho':'A1RhoEvent', 'nn_a1a1':'A1A1Event'}\n",
    "if args.REPRO:\n",
    "    for decaymode in tqdm(decaymodes):\n",
    "        points = []\n",
    "        args.Z_NOISE_FRACTION = 1\n",
    "        args.IN = '/home/anderson/higgs_data/'+decaymode\n",
    "        args.TYPE = 'nn_'+decaymode\n",
    "        data, weights, argmaxs, perm, c012s, hits_argmaxs, hits_c012s = preprocess_data(args)\n",
    "        event = eval(events[args.TYPE])(data, args)\n",
    "        points.append(EventDatasets(event, weights, argmaxs, perm, c012s=c012s, hits_argmaxs=hits_argmaxs,  hits_c012s=hits_c012s, miniset=args.MINISET, unweighted=args.UNWEIGHTED))\n",
    "        pickle.dump(points,open(args.IN+'/events_w_background.pk','wb'))\n",
    "        break"
   ]
  },
  {
   "cell_type": "markdown",
   "id": "34d05c89",
   "metadata": {},
   "source": [
    "### Loading bkgd samples"
   ]
  },
  {
   "cell_type": "code",
   "execution_count": null,
   "id": "60f5aa88",
   "metadata": {},
   "outputs": [],
   "source": [
    "background_points=pickle.load(open(args.IN+'/events_w_background.pk','rb'))"
   ]
  },
  {
   "cell_type": "code",
   "execution_count": 22,
   "id": "51cfe901",
   "metadata": {},
   "outputs": [],
   "source": [
    "points=pickle.load(open(args.IN+'/events_PtEtaPhiE.pk','rb'))"
   ]
  },
  {
   "cell_type": "code",
   "execution_count": null,
   "id": "ea18550a",
   "metadata": {},
   "outputs": [],
   "source": [
    "particle_idx = 0 # 0 for rhorho\n",
    "background=[]\n",
    "background.append(background_points[particle_idx].train.x[background_points[particle_idx].train.weights.sum(axis=1)==0])\n",
    "background.append(background_points[particle_idx].valid.x[background_points[particle_idx].valid.weights.sum(axis=1)==0])\n",
    "background.append(background_points[particle_idx].test.x[background_points[particle_idx].test.weights.sum(axis=1)==0])"
   ]
  },
  {
   "cell_type": "code",
   "execution_count": null,
   "id": "e1bc2862",
   "metadata": {},
   "outputs": [],
   "source": [
    "background=np.concatenate(background)"
   ]
  },
  {
   "cell_type": "code",
   "execution_count": null,
   "id": "99964c18",
   "metadata": {},
   "outputs": [],
   "source": [
    "background=torch.tensor(background).float().to(device)"
   ]
  },
  {
   "cell_type": "markdown",
   "id": "9d3885c6",
   "metadata": {},
   "source": [
    "### Testing NN w/ bkgd only"
   ]
  },
  {
   "cell_type": "code",
   "execution_count": null,
   "id": "78c5c4a5",
   "metadata": {
    "scrolled": true
   },
   "outputs": [],
   "source": [
    "model.load_state_dict(torch.load('model/best_model.pt'))\n",
    "model.eval()\n",
    "with torch.no_grad():\n",
    "    outputs=[]\n",
    "    for i in tqdm(range(0, 400000,batch_size)):\n",
    "        outputs.append(model(background[i:i+batch_size]).detach().cpu())\n",
    "outputs=torch.cat(outputs)\n",
    "\n",
    "bg_outputs=torch.argmax(torch.softmax(outputs,axis=1),axis=1).numpy()\n",
    "bg_labels_counts=np.unique(bg_outputs,return_counts=True)[1]"
   ]
  },
  {
   "cell_type": "code",
   "execution_count": null,
   "id": "acf7eee0",
   "metadata": {},
   "outputs": [],
   "source": [
    "pickle.dump(bg_outputs,open(args.IN+'/NN_outputs_background_only.pk','wb'))"
   ]
  },
  {
   "cell_type": "markdown",
   "id": "aa5464f5",
   "metadata": {},
   "source": [
    "### Testing NN w/ signal only (Class 0)"
   ]
  },
  {
   "cell_type": "code",
   "execution_count": 24,
   "id": "5c45659f",
   "metadata": {},
   "outputs": [],
   "source": [
    "model.load_state_dict(torch.load('model/best_model.pt'))\n",
    "model.eval()\n",
    "with torch.no_grad():\n",
    "    signal_outputs,signal_labels=[],[]\n",
    "    for batch_idx, (rhorho_s,rhorho_t,label_s,_) in enumerate(test_loader):\n",
    "        signal_outputs.append(model(rhorho_s).detach().cpu())\n",
    "        signal_labels.append(label_s.detach().cpu())\n",
    "signal_outputs=torch.softmax(torch.cat(signal_outputs),axis=1).numpy()\n",
    "signal_labels=np.concatenate(signal_labels)\n",
    "\n",
    "####### Filtering signal outputs that are classified to Class 0\n",
    "signal_outputs=signal_outputs[np.argmax(signal_labels,axis=1)==0]\n",
    "signal_labels=np.argmax(signal_outputs,axis=1)"
   ]
  },
  {
   "cell_type": "code",
   "execution_count": 13,
   "id": "55a7a828",
   "metadata": {},
   "outputs": [
    {
     "data": {
      "image/png": "[encoded data removed]",
      "text/plain": [
       "<Figure size 432x432 with 2 Axes>"
      ]
     },
     "metadata": {
      "needs_background": "light"
     },
     "output_type": "display_data"
    }
   ],
   "source": [
    "import seaborn as sns\n",
    "from sklearn.metrics import confusion_matrix\n",
    "\n",
    "model.load_state_dict(torch.load('model/pTEtaPhiE_test.pt'))\n",
    "\n",
    "model.eval()\n",
    "with torch.no_grad():\n",
    "    outputs,labels=[],[]\n",
    "    for batch_idx, (rhorho_s,rhorho_t,label_s,_) in enumerate(train_loader):\n",
    "        outputs.append(model(rhorho_s).detach().cpu())\n",
    "        labels.append(label_s.detach().cpu())\n",
    "outputs=torch.softmax(torch.cat(outputs),axis=1).numpy()\n",
    "labels=np.concatenate(labels)\n",
    "\n",
    "# signal_outputs=outputs[np.argmax(labels,axis=1)==0]\n",
    "# signal_outputs=np.argmax(signal_outputs,axis=1)\n",
    "\n",
    "LABELS = range(0,10)\n",
    "conf_matrix = confusion_matrix(np.argmax(labels,axis=1), np.argmax(outputs,axis=1), normalize=\"true\")\n",
    "plt.figure(figsize=(6, 6))\n",
    "sns.heatmap(conf_matrix, xticklabels=LABELS, yticklabels=LABELS, annot=True, square = True, cmap=\"Greens\", fmt='.3f')\n",
    "plt.ylabel('True class')\n",
    "plt.xlabel('Predicted class')\n",
    "plt.show()"
   ]
  },
  {
   "cell_type": "code",
   "execution_count": 57,
   "id": "6e367615",
   "metadata": {},
   "outputs": [],
   "source": [
    "pickle.dump(signal_outputs,open(args.IN+'/NN_outputs_signal_only.pk','wb'))"
   ]
  },
  {
   "cell_type": "markdown",
   "id": "227a5a8e",
   "metadata": {},
   "source": [
    "### Test Results"
   ]
  },
  {
   "cell_type": "code",
   "execution_count": 58,
   "id": "7d400b03",
   "metadata": {},
   "outputs": [],
   "source": [
    "# bg_outputs = pickle.load(open(args.IN+'/NN_outputs_background_only.pk','rb'))\n",
    "signal_outputs= pickle.load(open(args.IN+'/NN_outputs_signal_only.pk','rb'))"
   ]
  },
  {
   "cell_type": "code",
   "execution_count": null,
   "id": "a5a5e3e3",
   "metadata": {},
   "outputs": [],
   "source": [
    "#plt.fill_between(np.arange(args.NUM_CLASSES-1),0,bg_labels_counts,alpha=1,hatch='/', facecolor=\"skyblue\")\n",
    "#plt.fill_between(np.arange(args.NUM_CLASSES-1),bg_labels_counts,bg_labels_counts+signal_labels_counts,color='red',alpha=1)\n",
    "#plt.fill_between(np.arange(args.NUM_CLASSES-1),outputs.mean(axis=0)[:args.NUM_CLASSES-1],outputs.mean(axis=0)[:args.NUM_CLASSES-1]+signal_outputs[np.argmax(signal_labels,axis=1)==0].mean(axis=0)[:args.NUM_CLASSES-1],color='red',alpha=1)"
   ]
  },
  {
   "cell_type": "code",
   "execution_count": null,
   "id": "59fb9962",
   "metadata": {
    "scrolled": false
   },
   "outputs": [],
   "source": [
    "# create the dataframe; enumerate is used to make column names\n",
    "#columns=['Ztt','Signal']\n",
    "#fig,ax=plt.subplots(dpi=150)\n",
    "#plt.xlabel(\"Classes\")\n",
    "#lt.ylabel(\"Events\")\n",
    "#df = pd.concat([pd.DataFrame(a, columns=[columns[i]]) for i, a in enumerate([bg_outputs, np.argmax(signal_outputs,axis=1)], 0)], axis=1)\n",
    "\n",
    "# plot the data\n",
    "#ax.set_xlim(0,args.NUM_CLASSES-2)\n",
    "#ax = df.plot.hist(stacked=True, bins=args.NUM_CLASSES-1,ax=ax, color = ['skyblue','red']).get_figure()\n",
    "# ax.set_xticks(np.arange(args.NUM_CLASSES-2))\n",
    "# ax.set_xticklabels((np.linspace(0,2,args.NUM_CLASSES-2)*np.pi))\n",
    "# bars = ax.patches\n",
    "# hatches = ['/','\\\\']\n",
    "\n",
    "# for i in range(2):\n",
    "#     for j in range(args.NUM_CLASSES-1):\n",
    "#         bars[i*(args.NUM_CLASSES-1)+j].set_hatch(hatches[i])"
   ]
  },
  {
   "cell_type": "code",
   "execution_count": 54,
   "id": "cbc973d1",
   "metadata": {},
   "outputs": [
    {
     "ename": "NameError",
     "evalue": "name 'bg_outputs' is not defined",
     "output_type": "error",
     "traceback": [
      "\u001b[0;31m---------------------------------------------------------------------------\u001b[0m",
      "\u001b[0;31mNameError\u001b[0m                                 Traceback (most recent call last)",
      "\u001b[0;32m/tmp/ipykernel_14694/1781390388.py\u001b[0m in \u001b[0;36m<module>\u001b[0;34m\u001b[0m\n\u001b[1;32m      1\u001b[0m \u001b[0mfig\u001b[0m\u001b[0;34m,\u001b[0m\u001b[0max\u001b[0m\u001b[0;34m=\u001b[0m\u001b[0mplt\u001b[0m\u001b[0;34m.\u001b[0m\u001b[0msubplots\u001b[0m\u001b[0;34m(\u001b[0m\u001b[0mdpi\u001b[0m\u001b[0;34m=\u001b[0m\u001b[0;36m150\u001b[0m\u001b[0;34m)\u001b[0m\u001b[0;34m\u001b[0m\u001b[0;34m\u001b[0m\u001b[0m\n\u001b[1;32m      2\u001b[0m \u001b[0;34m\u001b[0m\u001b[0m\n\u001b[0;32m----> 3\u001b[0;31m \u001b[0mZtt\u001b[0m \u001b[0;34m=\u001b[0m \u001b[0mbg_outputs\u001b[0m\u001b[0;34m\u001b[0m\u001b[0;34m\u001b[0m\u001b[0m\n\u001b[0m\u001b[1;32m      4\u001b[0m \u001b[0mSignal\u001b[0m \u001b[0;34m=\u001b[0m \u001b[0mnp\u001b[0m\u001b[0;34m.\u001b[0m\u001b[0marray\u001b[0m\u001b[0;34m(\u001b[0m\u001b[0mnp\u001b[0m\u001b[0;34m.\u001b[0m\u001b[0margmax\u001b[0m\u001b[0;34m(\u001b[0m\u001b[0msignal_outputs\u001b[0m\u001b[0;34m,\u001b[0m\u001b[0maxis\u001b[0m\u001b[0;34m=\u001b[0m\u001b[0;36m1\u001b[0m\u001b[0;34m)\u001b[0m\u001b[0;34m)\u001b[0m\u001b[0;34m\u001b[0m\u001b[0;34m\u001b[0m\u001b[0m\n\u001b[1;32m      5\u001b[0m \u001b[0;34m\u001b[0m\u001b[0m\n",
      "\u001b[0;31mNameError\u001b[0m: name 'bg_outputs' is not defined"
     ]
    },
    {
     "data": {
      "image/png": "[encoded data removed]",
      "text/plain": [
       "<Figure size 900x600 with 1 Axes>"
      ]
     },
     "metadata": {
      "needs_background": "light"
     },
     "output_type": "display_data"
    }
   ],
   "source": [
    "fig,ax=plt.subplots(dpi=150)\n",
    "\n",
    "Ztt = bg_outputs\n",
    "Signal = np.array(np.argmax(signal_outputs,axis=1))\n",
    "\n",
    "plt.xlabel(\"Classes\")\n",
    "plt.ylabel(\"Events\")\n",
    "\n",
    "# plot the data\n",
    "bins = args.NUM_CLASSES-1\n",
    "ax.set_xlim(0,bins-1)\n",
    "#entries, edges, _ = ax.hist(Ztt, bins, color = 'skyblue', stacked=True)\n",
    "entries, edges, _ = plt.hist([Ztt,Signal], bins, color = ['skyblue', 'red'], stacked=True, label=['Ztt','Signal'])\n",
    "\n",
    "ax.legend()\n",
    "\n",
    "# calculate bin centers\n",
    "bin_centers = 0.5 * (edges[:-1] + edges[1:])\n",
    "\n",
    "# draw error bars\n",
    "Ztt_std = np.sqrt(entries[0])\n",
    "plt.errorbar(bin_centers, entries[0], yerr=Ztt_std, ls='none', ecolor='black')\n",
    "\n",
    "plt.show()"
   ]
  },
  {
   "cell_type": "code",
   "execution_count": 55,
   "id": "f5829338",
   "metadata": {},
   "outputs": [
    {
     "data": {
      "image/png": "[encoded data removed]",
      "text/plain": [
       "<Figure size 900x600 with 1 Axes>"
      ]
     },
     "metadata": {
      "needs_background": "light"
     },
     "output_type": "display_data"
    }
   ],
   "source": [
    "fig,ax=plt.subplots(dpi=150)\n",
    "\n",
    "# Ztt = bg_outputs\n",
    "Signal = np.array(np.argmax(signal_outputs,axis=1))\n",
    "\n",
    "plt.xlabel(\"Classes\")\n",
    "plt.ylabel(\"Events\")\n",
    "\n",
    "# plot the data\n",
    "bins = args.NUM_CLASSES-1\n",
    "ax.set_xlim(0,bins-1)\n",
    "#entries, edges, _ = ax.hist(Ztt, bins, color = 'skyblue', stacked=True)\n",
    "#entries, edges, _ = plt.hist(Ztt, bins, color = 'skyblue', label='Ztt')\n",
    "entries, edges, _ = plt.hist(Signal, bins, color = 'red', label='Signal')\n",
    "\n",
    "ax.legend()\n",
    "\n",
    "# calculate bin centers\n",
    "#bin_centers = 0.5 * (edges[:-1] + edges[1:])\n",
    "\n",
    "# draw error bars\n",
    "#Ztt_std = np.sqrt(entries)\n",
    "#plt.errorbar(bin_centers, entries, yerr=Ztt_std, ls='none', ecolor='black')\n",
    "\n",
    "plt.show()"
   ]
  },
  {
   "cell_type": "code",
   "execution_count": 46,
   "id": "1784e144",
   "metadata": {},
   "outputs": [
    {
     "ename": "NameError",
     "evalue": "name 'entries' is not defined",
     "output_type": "error",
     "traceback": [
      "\u001b[0;31m---------------------------------------------------------------------------\u001b[0m",
      "\u001b[0;31mNameError\u001b[0m                                 Traceback (most recent call last)",
      "\u001b[0;32m/tmp/ipykernel_14694/2967331678.py\u001b[0m in \u001b[0;36m<module>\u001b[0;34m\u001b[0m\n\u001b[0;32m----> 1\u001b[0;31m \u001b[0mprint\u001b[0m\u001b[0;34m(\u001b[0m\u001b[0mentries\u001b[0m\u001b[0;34m)\u001b[0m\u001b[0;34m\u001b[0m\u001b[0;34m\u001b[0m\u001b[0m\n\u001b[0m",
      "\u001b[0;31mNameError\u001b[0m: name 'entries' is not defined"
     ]
    }
   ],
   "source": [
    "print(entries)"
   ]
  },
  {
   "cell_type": "code",
   "execution_count": 49,
   "id": "d2efb10b",
   "metadata": {},
   "outputs": [
    {
     "ename": "NameError",
     "evalue": "name 'Ztt' is not defined",
     "output_type": "error",
     "traceback": [
      "\u001b[0;31m---------------------------------------------------------------------------\u001b[0m",
      "\u001b[0;31mNameError\u001b[0m                                 Traceback (most recent call last)",
      "\u001b[0;32m/tmp/ipykernel_14694/4058693406.py\u001b[0m in \u001b[0;36m<module>\u001b[0;34m\u001b[0m\n\u001b[1;32m     11\u001b[0m \u001b[0max\u001b[0m\u001b[0;34m.\u001b[0m\u001b[0mset_xlim\u001b[0m\u001b[0;34m(\u001b[0m\u001b[0;36m0\u001b[0m\u001b[0;34m,\u001b[0m\u001b[0mbins\u001b[0m\u001b[0;34m-\u001b[0m\u001b[0;36m1\u001b[0m\u001b[0;34m)\u001b[0m\u001b[0;34m\u001b[0m\u001b[0;34m\u001b[0m\u001b[0m\n\u001b[1;32m     12\u001b[0m \u001b[0;31m#entries, edges, _ = ax.hist(Ztt, bins, color = 'skyblue', stacked=True)\u001b[0m\u001b[0;34m\u001b[0m\u001b[0;34m\u001b[0m\u001b[0m\n\u001b[0;32m---> 13\u001b[0;31m \u001b[0mentries\u001b[0m\u001b[0;34m,\u001b[0m \u001b[0medges\u001b[0m\u001b[0;34m,\u001b[0m \u001b[0m_\u001b[0m \u001b[0;34m=\u001b[0m \u001b[0mplt\u001b[0m\u001b[0;34m.\u001b[0m\u001b[0mhist\u001b[0m\u001b[0;34m(\u001b[0m\u001b[0mZtt\u001b[0m\u001b[0;34m,\u001b[0m \u001b[0mbins\u001b[0m\u001b[0;34m,\u001b[0m \u001b[0mcolor\u001b[0m \u001b[0;34m=\u001b[0m \u001b[0;34m'skyblue'\u001b[0m\u001b[0;34m,\u001b[0m \u001b[0mlabel\u001b[0m\u001b[0;34m=\u001b[0m\u001b[0;34m'Ztt'\u001b[0m\u001b[0;34m)\u001b[0m\u001b[0;34m\u001b[0m\u001b[0;34m\u001b[0m\u001b[0m\n\u001b[0m\u001b[1;32m     14\u001b[0m \u001b[0;31m#entries, edges, _ = plt.hist(Signal, bins, color = 'red', label='Signal')\u001b[0m\u001b[0;34m\u001b[0m\u001b[0;34m\u001b[0m\u001b[0m\n\u001b[1;32m     15\u001b[0m \u001b[0;34m\u001b[0m\u001b[0m\n",
      "\u001b[0;31mNameError\u001b[0m: name 'Ztt' is not defined"
     ]
    },
    {
     "data": {
      "image/png": "[encoded data removed]",
      "text/plain": [
       "<Figure size 900x600 with 1 Axes>"
      ]
     },
     "metadata": {
      "needs_background": "light"
     },
     "output_type": "display_data"
    }
   ],
   "source": [
    "fig,ax=plt.subplots(dpi=150)\n",
    "\n",
    "Ztt = bg_outputs\n",
    "Signal = np.array(np.argmax(signal_outputs,axis=1))\n",
    "\n",
    "plt.xlabel(\"Classes\")\n",
    "plt.ylabel(\"Events\")\n",
    "\n",
    "# plot the data\n",
    "bins = args.NUM_CLASSES-1\n",
    "ax.set_xlim(0,bins-1)\n",
    "#entries, edges, _ = ax.hist(Ztt, bins, color = 'skyblue', stacked=True)\n",
    "entries, edges, _ = plt.hist(Ztt, bins, color = 'skyblue', label='Ztt')\n",
    "#entries, edges, _ = plt.hist(Signal, bins, color = 'red', label='Signal')\n",
    "\n",
    "ax.legend()\n",
    "\n",
    "# calculate bin centers\n",
    "bin_centers = 0.5 * (edges[:-1] + edges[1:])\n",
    "\n",
    "# draw error bars\n",
    "Ztt_std = np.sqrt(entries)\n",
    "plt.errorbar(bin_centers, entries, yerr=Ztt_std, ls='none', ecolor='black')\n",
    "\n",
    "plt.show()"
   ]
  },
  {
   "cell_type": "code",
   "execution_count": null,
   "id": "c5a6b029",
   "metadata": {},
   "outputs": [],
   "source": []
  }
 ],
 "metadata": {
  "kernelspec": {
   "display_name": "Python 3",
   "language": "python",
   "name": "python3"
  },
  "language_info": {
   "codemirror_mode": {
    "name": "ipython",
    "version": 3
   },
   "file_extension": ".py",
   "mimetype": "text/x-python",
   "name": "python",
   "nbconvert_exporter": "python",
   "pygments_lexer": "ipython3",
   "version": "3.9.7"
  }
 },
 "nbformat": 4,
 "nbformat_minor": 5
}
