{
 "cells": [
  {
   "cell_type": "code",
   "execution_count": 1,
   "id": "87e49442",
   "metadata": {},
   "outputs": [
    {
     "name": "stdout",
     "output_type": "stream",
     "text": [
      "WARNING:tensorflow:From /home/anderson/anaconda3/envs/py3/lib/python3.9/site-packages/tensorflow/python/compat/v2_compat.py:96: disable_resource_variables (from tensorflow.python.ops.variable_scope) is deprecated and will be removed in a future version.\n",
      "Instructions for updating:\n",
      "non-resource variables are not supported in the long term\n"
     ]
    }
   ],
   "source": [
    "import numpy as np\n",
    "import torch\n",
    "import torch.nn as nn\n",
    "import torch.nn.functional as F\n",
    "import pickle\n",
    "from tqdm.notebook import tqdm\n",
    "from Eearly_stop import *\n",
    "from sklearn.metrics import roc_auc_score, accuracy_score\n",
    "import sys\n",
    "import pandas as pd\n",
    "import argparse\n",
    "import os\n",
    "import matplotlib.pyplot as plt\n",
    "import warnings\n",
    "warnings.filterwarnings('ignore')\n",
    "import math\n",
    "from torch.utils.data import Dataset, DataLoader\n",
    "from src_py.cpmix_utils import preprocess_data\n",
    "from src_py.rhorho import RhoRhoEvent\n",
    "from src_py.a1a1 import A1A1Event\n",
    "from src_py.a1rho import A1RhoEvent\n",
    "from src_py.data_utils import read_np, EventDatasets\n",
    "from src_py.process_background import convert_bkgd_raw\n",
    "import train_rhorho, train_a1rho, train_a1a1\n",
    "from src_py.metrics_utils import calculate_deltas_unsigned, calculate_deltas_signed"
   ]
  },
  {
   "cell_type": "code",
   "execution_count": 2,
   "id": "a5e91a9a",
   "metadata": {},
   "outputs": [
    {
     "name": "stdout",
     "output_type": "stream",
     "text": [
      "Using cpu device\n"
     ]
    }
   ],
   "source": [
    "device = torch.device('cuda:0') if torch.cuda.is_available() else torch.device('cpu')\n",
    "print('Using {} device'.format(device))"
   ]
  },
  {
   "cell_type": "code",
   "execution_count": 5,
   "id": "da403d8d",
   "metadata": {},
   "outputs": [],
   "source": [
    "decaymodes = ['rhorho', 'a1rho', 'a1a1']\n",
    "types = {\"nn_rhorho\": train_rhorho.start,\"nn_a1rho\": train_a1rho.start,\"nn_a1a1\": train_a1a1.start}\n",
    "parser = argparse.ArgumentParser(description='Train classifier')\n",
    "\n",
    "parser.add_argument(\"--num_classes\", dest=\"NUM_CLASSES\", type=int, default=11)\n",
    "parser.add_argument(\"-l\", \"--layers\", dest=\"LAYERS\", type=int, help = \"number of NN layers\", default=6)\n",
    "parser.add_argument(\"-s\", \"--size\", dest=\"SIZE\", type=int, help=\"NN size\", default=100)\n",
    "parser.add_argument(\"-lambda\", \"--lambda\", type=float, dest=\"LAMBDA\", help=\"value of lambda parameter\", default=0.0)\n",
    "parser.add_argument(\"-m\", \"--method\", dest=\"METHOD\", choices=[\"A\", \"B\", \"C\"], default=\"A\")\n",
    "parser.add_argument(\"-o\", \"--optimizer\", dest=\"OPT\", \n",
    "    choices=[\"GradientDescentOptimizer\", \"AdadeltaOptimizer\", \"AdagradOptimizer\",\n",
    "         \"ProximalAdagradOptimizer\", \"AdamOptimizer\", \"FtrlOptimizer\",\n",
    "         \"ProximalGradientDescentOptimizer\", \"RMSPropOptimizer\"], default=\"AdamOptimizer\")\n",
    "parser.add_argument(\"-d\", \"--dropout\", dest=\"DROPOUT\", type=float, default=0.0)\n",
    "parser.add_argument(\"-e\", \"--epochs\", dest=\"EPOCHS\", type=int, default=3)\n",
    "# parser.add_argument(\"-f\", \"--features\", dest=\"FEAT\", help=\"Features\", default=\"Variant-All\")\n",
    "# #         choices= [\"Variant-All\", \"Variant-1.0\", \"Variant-1.1\", \"Variant-2.0\", \"Variant-2.1\",\n",
    "# #                   \"Variant-2.2\", \"Variant-3.0\", \"Variant-3.1\", \"Variant-4.0\", \"Variant-4.1\"])\n",
    "\n",
    "########### Change this to according dir to download data #######################\n",
    "parser.add_argument(\"-i\", \"--input\", dest=\"IN\", default='/home/anderson/higgs_data/rhorho')\n",
    "\n",
    "parser.add_argument(\"--miniset\", dest=\"MINISET\", type=lambda s: s.lower() in ['true', 't', 'yes', '1'], default=False)\n",
    "parser.add_argument(\"--z_noise_fraction\", dest=\"Z_NOISE_FRACTION\", type=float, default=0.0)\n",
    "\n",
    "parser.add_argument(\"--delt_classes\", dest=\"DELT_CLASSES\", type=int, default=0,\n",
    "                    help='Maximal distance between predicted and valid class for event being considered as correctly classified')\n",
    "\n",
    "parser.add_argument(\"--unweighted\", dest=\"UNWEIGHTED\", type=lambda s: s.lower() in ['true', 't', 'yes', '1'], default=False)\n",
    "parser.add_argument(\"--reuse_weights\", dest=\"REUSE_WEIGHTS\", type=bool, default=False)\n",
    "parser.add_argument(\"--restrict_most_probable_angle\", dest=\"RESTRICT_MOST_PROBABLE_ANGLE\", type=bool, default=False)\n",
    "parser.add_argument(\"--force_download\", dest=\"FORCE_DOWNLOAD\", type=bool, default=False)\n",
    "parser.add_argument(\"--normalize_weights\", dest=\"NORMALIZE_WEIGHTS\", type=bool, default=False)\n",
    "\n",
    "\n",
    "parser.add_argument(\"--beta\",  type=float, dest=\"BETA\", help=\"value of beta parameter for polynomial smearing\", default=0.0)\n",
    "parser.add_argument(\"--pol_b\", type=float, dest=\"pol_b\", help=\"value of b parameter for polynomial smearing\", default=0.0)\n",
    "parser.add_argument(\"--pol_c\", type=float, dest=\"pol_c\", help=\"value of c parameter for polynomial smearing\", default=0.0)\n",
    "\n",
    "parser.add_argument(\"--w1\", dest=\"W1\")\n",
    "parser.add_argument(\"--w2\", dest=\"W2\")\n",
    "parser.add_argument(\"--f\", dest=\"FEAT\", default=\"Variant-All\")\n",
    "parser.add_argument(\"--plot_features\", dest=\"PLOT_FEATURES\", choices=[\"NO\", \"FILTER\", \"NO-FILTER\"], default=\"NO\")\n",
    "parser.add_argument(\"--training_method\", dest=\"TRAINING_METHOD\", choices=[\"soft_weights\", \"soft_c012s\",  \"soft_argmaxs\", \"regr_c012s\", \"regr_weights\", \"regr_argmaxs\"], default=\"soft_weights\")\n",
    "parser.add_argument(\"--hits_c012s\", dest=\"HITS_C012s\", choices=[\"hits_c0s\", \"hits_c1s\",  \"hits_c2s\"], default=\"hits_c0s\")\n",
    "\n",
    "######Change this to according type (rhorho, a1rho, a1a1)#######################\n",
    "parser.add_argument(\"-t\", \"--type\", dest=\"TYPE\", choices=types.keys(), default='nn_rhorho')\n",
    "\n",
    "parser.add_argument(\"-r\", \"--reprocess\", dest=\"REPRO\", type=bool, default=True)\n",
    "args, unknown = parser.parse_known_args()\n",
    "parser.add_argument(\"-bkgd\", \"--bkgdpath\", dest=\"BKGDPATH\", default='/home/anderson/Ztt_raw/pythia.Z_115_135.%s.1M.*.outTUPLE_labFrame')\n",
    "args, unknown = parser.parse_known_args()\n",
    "parser.add_argument(\"--train_bkgd\", dest=\"TRAINBKGD\", default=True)\n",
    "args, unknown = parser.parse_known_args()\n"
   ]
  },
  {
   "cell_type": "markdown",
   "id": "ea597406",
   "metadata": {},
   "source": [
    "### Preprocessing signal samples from all the decaymodes"
   ]
  },
  {
   "cell_type": "code",
   "execution_count": 8,
   "id": "a341cf9d",
   "metadata": {
    "scrolled": false
   },
   "outputs": [
    {
     "data": {
      "application/vnd.jupyter.widget-view+json": {
       "model_id": "743758c7be3f406fbf4468ab190befb4",
       "version_major": 2,
       "version_minor": 0
      },
      "text/plain": [
       "  0%|          | 0/3 [00:00<?, ?it/s]"
      ]
     },
     "metadata": {},
     "output_type": "display_data"
    },
    {
     "name": "stdout",
     "output_type": "stream",
     "text": [
      "Loading data\n",
      "Read 1000000 events\n",
      "Events including background: 2000000\n",
      "SCALE!!\n"
     ]
    }
   ],
   "source": [
    "events={'nn_rhorho':'RhoRhoEvent', 'nn_a1rho':'A1RhoEvent', 'nn_a1a1':'A1A1Event'}\n",
    "if args.REPRO:\n",
    "    if args.TRAINBKGD == True:\n",
    "        for decaymode in tqdm(decaymodes):\n",
    "            points = []\n",
    "            args.IN = '/home/anderson/higgs_data/'+decaymode\n",
    "            args.TYPE = 'nn_'+decaymode\n",
    "            args.Z_NOISE_FRACTION = 1.0\n",
    "            data, weights, argmaxs, perm, c012s, hits_argmaxs, hits_c012s = preprocess_data(args)\n",
    "            event = eval(events[args.TYPE])(data, args)\n",
    "            points.append(EventDatasets(event, weights, argmaxs, perm, c012s=c012s, hits_argmaxs=hits_argmaxs,  hits_c012s=hits_c012s, miniset=args.MINISET, unweighted=args.UNWEIGHTED))\n",
    "            pickle.dump(points,open(args.IN+'/events_w_background.pk','wb'))\n",
    "            break"
   ]
  },
  {
   "cell_type": "code",
   "execution_count": 9,
   "id": "006cd6ac",
   "metadata": {},
   "outputs": [],
   "source": [
    "# position={'nn_rhorho':[0,1,4,5,6,7], 'nn_a1rho':[0,1,2,3,5,6,7], 'nn_a1a1':[0,1,2,3,5,6,8,9]}"
   ]
  },
  {
   "cell_type": "markdown",
   "id": "13cee035",
   "metadata": {},
   "source": [
    "### Loading signal samples"
   ]
  },
  {
   "cell_type": "code",
   "execution_count": 10,
   "id": "f6a38fcd",
   "metadata": {},
   "outputs": [],
   "source": [
    "points=pickle.load(open(args.IN+'/events_w_background.pk','rb'))"
   ]
  },
  {
   "cell_type": "markdown",
   "id": "9e548b8b",
   "metadata": {},
   "source": [
    "### Training NN"
   ]
  },
  {
   "cell_type": "code",
   "execution_count": 11,
   "id": "47078747",
   "metadata": {},
   "outputs": [],
   "source": [
    "batch_size=512"
   ]
  },
  {
   "cell_type": "code",
   "execution_count": 12,
   "id": "39972924",
   "metadata": {},
   "outputs": [],
   "source": [
    "# initializing the training dataset\n",
    "class MyDataset(Dataset):\n",
    "    def __init__(self, rhorho_data_mc,rhorho_data_true,rhorho_labels_mc,rhorho_labels_true):\n",
    "        self.rhorho_data_mc = torch.from_numpy(rhorho_data_mc).float().to(device)\n",
    "        self.rhorho_data_true = torch.from_numpy(rhorho_data_true).float().to(device)\n",
    "        \n",
    "        self.rhorho_labels_mc = torch.from_numpy(rhorho_labels_mc).float().to(device)\n",
    "        self.rhorho_labels_true = torch.from_numpy(rhorho_labels_true).float().to(device)\n",
    "    def __getitem__(self, index):\n",
    "        return self.rhorho_data_mc[index],self.rhorho_data_true[index],self.rhorho_labels_mc[index],self.rhorho_labels_true[index]\n",
    "    def __len__(self):\n",
    "        return min(len(self.rhorho_labels_mc),len(self.rhorho_labels_true))"
   ]
  },
  {
   "cell_type": "code",
   "execution_count": 13,
   "id": "2404402b",
   "metadata": {},
   "outputs": [],
   "source": [
    "class NeuralNetwork(nn.Module):\n",
    "    def __init__(self, num_features, num_classes, num_layers=1, size=100, lr=1e-3, drop_prob=0, inplace=False, \n",
    "                 tloss=\"regr_weights\", activation='linear', input_noise=0.0, optimizer=\"AdamOptimizer\"):\n",
    "        super(NeuralNetwork, self).__init__()\n",
    "        self.linear1 = nn.Linear(num_features,size,bias=False)\n",
    "        layers = []\n",
    "        for i in range(num_layers):\n",
    "            layers.extend([nn.Linear(size,size,bias=False),\n",
    "                           nn.BatchNorm1d(size),\n",
    "                           nn.ReLU(),\n",
    "                           nn.Dropout(drop_prob, inplace)\n",
    "                          ])\n",
    "        self.linear_relu_stack = nn.Sequential(*layers)\n",
    "        self.linear2 = nn.Linear(size,num_classes,bias=False)\n",
    "        self.linear3 = nn.Linear(size,2,bias=False)\n",
    "    def forward(self, x):\n",
    "        x = self.linear1(x)\n",
    "        x = self.linear_relu_stack(x)\n",
    "        out = self.linear2(x)\n",
    "        return out"
   ]
  },
  {
   "cell_type": "code",
   "execution_count": 14,
   "id": "dafcb9d3",
   "metadata": {},
   "outputs": [],
   "source": [
    "particle_idx = 0 # decay mode: rhorho\n",
    "\n",
    "mc_train_idx=np.random.choice(np.arange(points[particle_idx].train.x.shape[0]),int(points[particle_idx].train.x.shape[0]*0.5),replace=False)\n",
    "true_train_idx=list(set(np.arange(points[particle_idx].train.x.shape[0]))-set(mc_train_idx))\n",
    "\n",
    "mc_valid_idx=np.random.choice(np.arange(points[particle_idx].valid.x.shape[0]),int(points[particle_idx].valid.x.shape[0]*0.5),replace=False)\n",
    "true_valid_idx=list(set(np.arange(points[particle_idx].valid.x.shape[0]))-set(mc_train_idx))\n",
    "\n",
    "mc_test_idx=np.random.choice(np.arange(points[particle_idx].test.x.shape[0]),int(points[particle_idx].test.x.shape[0]*0.5),replace=False)\n",
    "true_test_idx=list(set(np.arange(points[particle_idx].test.x.shape[0]))-set(mc_train_idx))"
   ]
  },
  {
   "cell_type": "code",
   "execution_count": 15,
   "id": "5037f942",
   "metadata": {},
   "outputs": [],
   "source": [
    "uncertainty = 0.0\n",
    "\n",
    "train_datasets = MyDataset(points[particle_idx].train.x[mc_train_idx], \n",
    "                           points[particle_idx].train.x[true_train_idx] + uncertainty*np.random.normal(0,1,size=points[particle_idx].train.x[true_train_idx].shape),\n",
    "                           points[particle_idx].train.weights[mc_train_idx],\n",
    "                           points[particle_idx].train.weights[true_train_idx])\n",
    "train_loader = DataLoader(dataset = train_datasets, batch_size = batch_size, shuffle = True)\n",
    "\n",
    "\n",
    "valid_datasets = MyDataset(points[particle_idx].valid.x[mc_valid_idx], \n",
    "                           points[particle_idx].valid.x[true_valid_idx] + uncertainty*np.random.normal(0,1,size=points[particle_idx].valid.x[true_valid_idx].shape),\n",
    "                           points[particle_idx].valid.weights[mc_valid_idx],\n",
    "                           points[particle_idx].valid.weights[true_valid_idx])\n",
    "valid_loader = DataLoader(dataset = valid_datasets,batch_size = batch_size,shuffle = True)\n",
    "\n",
    "\n",
    "test_datasets = MyDataset(points[particle_idx].test.x[mc_test_idx], \n",
    "                          points[particle_idx].test.x[true_test_idx] + uncertainty*np.random.normal(0,1,size=points[particle_idx].test.x[true_test_idx].shape),\n",
    "                          points[particle_idx].test.weights[mc_test_idx],\n",
    "                          points[particle_idx].test.weights[true_test_idx])\n",
    "test_loader = DataLoader(dataset = test_datasets,batch_size = batch_size,shuffle = True)"
   ]
  },
  {
   "cell_type": "code",
   "execution_count": 16,
   "id": "1c7064d7",
   "metadata": {},
   "outputs": [],
   "source": [
    "#model = NeuralNetwork(num_features = points[particle_idx].train.x.shape[1], num_classes = args.NUM_CLASSES, num_layers=args.LAYERS, drop_prob=0).to(device)\n",
    "model = NeuralNetwork(num_features = points[particle_idx].train.x.shape[1], num_classes = args.NUM_CLASSES+1, num_layers=args.LAYERS, drop_prob=0).to(device)\n",
    "opt_g=torch.optim.Adam(model.parameters(),lr=1e-3)\n",
    "criterion=nn.CrossEntropyLoss()\n",
    "early_stopping = EarlyStopping(patience=10, verbose=True,path='model/best_model.pt')"
   ]
  },
  {
   "cell_type": "code",
   "execution_count": 17,
   "id": "8691c833",
   "metadata": {
    "scrolled": true
   },
   "outputs": [
    {
     "name": "stdout",
     "output_type": "stream",
     "text": [
      " training loss: 1.217 \t acc: 0.594 \t\n",
      "\n",
      "  acc: 0.667 \t \n",
      "Validation loss decreased (inf --> -0.667474).  Saving model ...\n",
      " training loss: 0.945 \t acc: 0.671 \t\n",
      "\n",
      "  acc: 0.709 \t \n",
      "Validation loss decreased (-0.667474 --> -0.709298).  Saving model ...\n",
      " training loss: 0.873 \t acc: 0.688 \t\n",
      "\n",
      "  acc: 0.719 \t \n",
      "Validation loss decreased (-0.709298 --> -0.718747).  Saving model ...\n",
      " training loss: 0.827 \t acc: 0.700 \t\n",
      "\n",
      "  acc: 0.732 \t \n",
      "Validation loss decreased (-0.718747 --> -0.731921).  Saving model ...\n",
      " training loss: 0.800 \t acc: 0.707 \t\n",
      "\n",
      "  acc: 0.742 \t \n",
      "Validation loss decreased (-0.731921 --> -0.741811).  Saving model ...\n",
      " training loss: 0.779 \t acc: 0.713 \t\n",
      "\n",
      "  acc: 0.749 \t \n",
      "Validation loss decreased (-0.741811 --> -0.749419).  Saving model ...\n",
      " training loss: 0.761 \t acc: 0.718 \t\n",
      "\n",
      "  acc: 0.748 \t \n",
      "EarlyStopping counter: 1 out of 10\n",
      " training loss: 0.747 \t acc: 0.721 \t\n",
      "\n",
      "  acc: 0.758 \t \n",
      "Validation loss decreased (-0.749419 --> -0.757508).  Saving model ...\n",
      " training loss: 0.737 \t acc: 0.725 \t\n",
      "\n",
      "  acc: 0.764 \t \n",
      "Validation loss decreased (-0.757508 --> -0.764115).  Saving model ...\n",
      " training loss: 0.729 \t acc: 0.726 \t\n",
      "\n",
      "  acc: 0.765 \t \n",
      "Validation loss decreased (-0.764115 --> -0.764895).  Saving model ...\n",
      " training loss: 0.719 \t acc: 0.729 \t\n",
      "\n",
      "  acc: 0.765 \t \n",
      "Validation loss decreased (-0.764895 --> -0.765336).  Saving model ...\n",
      " training loss: 0.710 \t acc: 0.732 \t\n",
      "\n",
      "  acc: 0.770 \t \n",
      "Validation loss decreased (-0.765336 --> -0.770081).  Saving model ...\n",
      " training loss: 0.704 \t acc: 0.734 \t\n",
      "\n",
      "  acc: 0.767 \t \n",
      "EarlyStopping counter: 1 out of 10\n",
      " training loss: 0.698 \t acc: 0.736 \t\n",
      "\n",
      "  acc: 0.778 \t \n",
      "Validation loss decreased (-0.770081 --> -0.778450).  Saving model ...\n",
      " training loss: 0.692 \t acc: 0.738 \t\n",
      "\n",
      "  acc: 0.782 \t \n",
      "Validation loss decreased (-0.778450 --> -0.782274).  Saving model ...\n",
      " training loss: 0.683 \t acc: 0.741 \t\n",
      "\n",
      "  acc: 0.774 \t \n",
      "EarlyStopping counter: 1 out of 10\n",
      " training loss: 0.681 \t acc: 0.741 \t\n",
      "\n",
      "  acc: 0.775 \t \n",
      "EarlyStopping counter: 2 out of 10\n",
      " training loss: 0.677 \t acc: 0.742 \t\n",
      "\n",
      "  acc: 0.789 \t \n",
      "Validation loss decreased (-0.782274 --> -0.789201).  Saving model ...\n",
      " training loss: 0.669 \t acc: 0.745 \t\n",
      "\n",
      "  acc: 0.790 \t \n",
      "Validation loss decreased (-0.789201 --> -0.789781).  Saving model ...\n",
      " training loss: 0.670 \t acc: 0.744 \t\n",
      "\n",
      "  acc: 0.785 \t \n",
      "EarlyStopping counter: 1 out of 10\n",
      " training loss: 0.665 \t acc: 0.746 \t\n",
      "\n",
      "  acc: 0.788 \t \n",
      "EarlyStopping counter: 2 out of 10\n",
      " training loss: 0.658 \t acc: 0.748 \t\n",
      "\n",
      "  acc: 0.786 \t \n",
      "EarlyStopping counter: 3 out of 10\n",
      " training loss: 0.659 \t acc: 0.748 \t\n",
      "\n",
      "  acc: 0.785 \t \n",
      "EarlyStopping counter: 4 out of 10\n",
      " training loss: 0.652 \t acc: 0.750 \t\n",
      "\n",
      "  acc: 0.797 \t \n",
      "Validation loss decreased (-0.789781 --> -0.796608).  Saving model ...\n",
      " training loss: 0.649 \t acc: 0.751 \t\n",
      "\n",
      "  acc: 0.792 \t \n",
      "EarlyStopping counter: 1 out of 10\n",
      " training loss: 0.646 \t acc: 0.752 \t\n",
      "\n",
      "  acc: 0.791 \t \n",
      "EarlyStopping counter: 2 out of 10\n",
      " training loss: 0.645 \t acc: 0.752 \t\n",
      "\n",
      "  acc: 0.789 \t \n",
      "EarlyStopping counter: 3 out of 10\n",
      " training loss: 0.638 \t acc: 0.753 \t\n",
      "\n",
      "  acc: 0.792 \t \n",
      "EarlyStopping counter: 4 out of 10\n",
      " training loss: 0.638 \t acc: 0.754 \t\n",
      "\n",
      "  acc: 0.793 \t \n",
      "EarlyStopping counter: 5 out of 10\n",
      " training loss: 0.638 \t acc: 0.754 \t\n",
      "\n",
      "  acc: 0.796 \t \n",
      "EarlyStopping counter: 6 out of 10\n",
      " training loss: 0.632 \t acc: 0.756 \t\n",
      "\n",
      "  acc: 0.800 \t \n",
      "Validation loss decreased (-0.796608 --> -0.800452).  Saving model ...\n",
      " training loss: 0.627 \t acc: 0.757 \t\n",
      "\n",
      "  acc: 0.794 \t \n",
      "EarlyStopping counter: 1 out of 10\n",
      " training loss: 0.631 \t acc: 0.757 \t\n",
      "\n",
      "  acc: 0.797 \t \n",
      "EarlyStopping counter: 2 out of 10\n",
      " training loss: 0.623 \t acc: 0.759 \t\n",
      "\n",
      "  acc: 0.794 \t \n",
      "EarlyStopping counter: 3 out of 10\n",
      " training loss: 0.622 \t acc: 0.760 \t\n",
      "\n",
      "  acc: 0.798 \t \n",
      "EarlyStopping counter: 4 out of 10\n",
      " training loss: 0.622 \t acc: 0.759 \t\n",
      "\n",
      "  acc: 0.800 \t \n",
      "EarlyStopping counter: 5 out of 10\n",
      " training loss: 0.622 \t acc: 0.759 \t\n",
      "\n",
      "  acc: 0.800 \t \n",
      "EarlyStopping counter: 6 out of 10\n",
      " training loss: 0.619 \t acc: 0.760 \t\n",
      "\n",
      "  acc: 0.802 \t \n",
      "Validation loss decreased (-0.800452 --> -0.801794).  Saving model ...\n",
      " training loss: 0.618 \t acc: 0.760 \t\n",
      "\n",
      "  acc: 0.800 \t \n",
      "EarlyStopping counter: 1 out of 10\n",
      " training loss: 0.612 \t acc: 0.762 \t\n",
      "\n",
      "  acc: 0.804 \t \n",
      "Validation loss decreased (-0.801794 --> -0.804096).  Saving model ...\n",
      " training loss: 0.613 \t acc: 0.762 \t\n",
      "\n",
      "  acc: 0.802 \t \n",
      "EarlyStopping counter: 1 out of 10\n",
      " training loss: 0.612 \t acc: 0.763 \t\n",
      "\n",
      "  acc: 0.804 \t \n",
      "EarlyStopping counter: 2 out of 10\n",
      " training loss: 0.608 \t acc: 0.763 \t\n",
      "\n",
      "  acc: 0.804 \t \n",
      "Validation loss decreased (-0.804096 --> -0.804397).  Saving model ...\n",
      " training loss: 0.606 \t acc: 0.764 \t\n",
      "\n",
      "  acc: 0.806 \t \n",
      "Validation loss decreased (-0.804397 --> -0.805558).  Saving model ...\n",
      " training loss: 0.606 \t acc: 0.764 \t\n",
      "\n",
      "  acc: 0.802 \t \n",
      "EarlyStopping counter: 1 out of 10\n",
      " training loss: 0.604 \t acc: 0.764 \t\n",
      "\n",
      "  acc: 0.805 \t \n",
      "EarlyStopping counter: 2 out of 10\n",
      " training loss: 0.602 \t acc: 0.765 \t\n",
      "\n",
      "  acc: 0.801 \t \n",
      "EarlyStopping counter: 3 out of 10\n",
      " training loss: 0.601 \t acc: 0.766 \t\n",
      "\n",
      "  acc: 0.806 \t \n",
      "Validation loss decreased (-0.805558 --> -0.806138).  Saving model ...\n",
      " training loss: 0.601 \t acc: 0.766 \t\n",
      "\n",
      "  acc: 0.806 \t \n",
      "EarlyStopping counter: 1 out of 10\n",
      " training loss: 0.599 \t acc: 0.767 \t\n",
      "\n",
      "  acc: 0.807 \t \n",
      "Validation loss decreased (-0.806138 --> -0.806799).  Saving model ...\n",
      " training loss: 0.597 \t acc: 0.768 \t\n",
      "\n",
      "  acc: 0.808 \t \n",
      "Validation loss decreased (-0.806799 --> -0.807820).  Saving model ...\n",
      " training loss: 0.595 \t acc: 0.768 \t\n",
      "\n",
      "  acc: 0.807 \t \n",
      "EarlyStopping counter: 1 out of 10\n",
      " training loss: 0.596 \t acc: 0.768 \t\n",
      "\n",
      "  acc: 0.806 \t \n",
      "EarlyStopping counter: 2 out of 10\n",
      " training loss: 0.594 \t acc: 0.769 \t\n",
      "\n",
      "  acc: 0.809 \t \n",
      "Validation loss decreased (-0.807820 --> -0.808861).  Saving model ...\n",
      " training loss: 0.591 \t acc: 0.769 \t\n",
      "\n",
      "  acc: 0.807 \t \n",
      "EarlyStopping counter: 1 out of 10\n",
      " training loss: 0.592 \t acc: 0.768 \t\n",
      "\n",
      "  acc: 0.802 \t \n",
      "EarlyStopping counter: 2 out of 10\n",
      " training loss: 0.589 \t acc: 0.770 \t\n",
      "\n",
      "  acc: 0.807 \t \n",
      "EarlyStopping counter: 3 out of 10\n",
      " training loss: 0.593 \t acc: 0.769 \t\n",
      "\n",
      "  acc: 0.807 \t \n",
      "EarlyStopping counter: 4 out of 10\n",
      " training loss: 0.588 \t acc: 0.769 \t\n",
      "\n",
      "  acc: 0.808 \t \n",
      "EarlyStopping counter: 5 out of 10\n",
      " training loss: 0.586 \t acc: 0.770 \t\n",
      "\n",
      "  acc: 0.806 \t \n",
      "EarlyStopping counter: 6 out of 10\n",
      " training loss: 0.585 \t acc: 0.772 \t\n",
      "\n",
      "  acc: 0.805 \t \n",
      "EarlyStopping counter: 7 out of 10\n",
      " training loss: 0.584 \t acc: 0.771 \t\n",
      "\n",
      "  acc: 0.808 \t \n",
      "EarlyStopping counter: 8 out of 10\n",
      " training loss: 0.584 \t acc: 0.771 \t\n",
      "\n",
      "  acc: 0.805 \t \n",
      "EarlyStopping counter: 9 out of 10\n",
      " training loss: 0.584 \t acc: 0.772 \t\n",
      "\n",
      "  acc: 0.804 \t \n",
      "EarlyStopping counter: 10 out of 10\n",
      "Early stopping\n"
     ]
    }
   ],
   "source": [
    "epoch=200\n",
    "for i in range(epoch):\n",
    "    model.train()\n",
    "    train_loss,sample_numbers,acc,total_samples,bg_acc=0,0,0,0,0\n",
    "    for batch_idx, (rhorho_s,rhorho_t,label_s,_) in enumerate(train_loader):\n",
    "        \n",
    "        opt_g.zero_grad()\n",
    "        rhorho_s=rhorho_s[label_s.sum(axis=1)!=0]\n",
    "        label_s=label_s[label_s.sum(axis=1)!=0]\n",
    "        outputs=model(rhorho_s)\n",
    "        if isinstance(criterion,nn.CrossEntropyLoss):\n",
    "            loss=criterion(outputs,torch.argmax(label_s,axis=1))\n",
    "            _, predictions = torch.max(outputs, 1)\n",
    "            acc+=(predictions==torch.argmax(label_s,axis=1)).sum().item()\n",
    "        else:\n",
    "            loss=criterion(outputs,label_s)\n",
    "        loss.backward()\n",
    "        train_loss+=loss.item()*len(rhorho_s)\n",
    "        sample_numbers+=len(rhorho_s)\n",
    "        opt_g.step()\n",
    "        print('\\r training loss: %.3f \\t acc: %.3f \\t' %(train_loss/sample_numbers,acc/sample_numbers),end='')\n",
    "    print()\n",
    "    vaild_acc,vaild_numbers,total_samples,bg_acc=0,0,0,0\n",
    "    model.eval()\n",
    "    with torch.no_grad():\n",
    "        for batch_idx, (rhorho_s,rhorho_t,label_s,label_t) in enumerate(valid_loader):\n",
    "            total_samples+=len(rhorho_t)\n",
    "            rhorho_t = rhorho_t[label_t.sum(axis=1)!=0]\n",
    "            label_t = label_t[label_t.sum(axis=1)!=0]\n",
    "            outputs = model(rhorho_t)\n",
    "            _, predictions = torch.max(outputs, 1)\n",
    "            vaild_acc += (predictions==torch.argmax(label_t,axis=1)).sum().item()\n",
    "            vaild_numbers += len(rhorho_t)\n",
    "    print()\n",
    "    print('\\r  acc: %.3f \\t ' %(vaild_acc/vaild_numbers),end='')\n",
    "    print()\n",
    "    early_stopping(-vaild_acc/vaild_numbers,model)\n",
    "    if early_stopping.early_stop:\n",
    "        print(\"Early stopping\")\n",
    "        break;\n",
    "# test_loss=0\n",
    "# with torch.no_grad():\n",
    "#     for inputs, label in test_loader:\n",
    "#         outputs=model(inputs)\n",
    "#         test_loss+=mse_loss(outputs,label).item()*len(inputs)\n",
    "#     print('test loss: %f' %(test_loss/len(test_loader.dataset.tensors[0])))"
   ]
  },
  {
   "cell_type": "markdown",
   "id": "ab8eb181",
   "metadata": {},
   "source": [
    "### Converting bkgd raw data into npy"
   ]
  },
  {
   "cell_type": "code",
   "execution_count": null,
   "id": "4a605ea5",
   "metadata": {},
   "outputs": [
    {
     "data": {
      "application/vnd.jupyter.widget-view+json": {
       "model_id": "88487adccc36443c87b049b53226710a",
       "version_major": 2,
       "version_minor": 0
      },
      "text/plain": [
       "0it [00:00, ?it/s]"
      ]
     },
     "metadata": {},
     "output_type": "display_data"
    },
    {
     "name": "stdout",
     "output_type": "stream",
     "text": [
      "Failed to convert Ztt raw data for a1a1 :(\n"
     ]
    },
    {
     "data": {
      "application/vnd.jupyter.widget-view+json": {
       "model_id": "1a0f9161fc4c4375972d35db01c62357",
       "version_major": 2,
       "version_minor": 0
      },
      "text/plain": [
       "0it [00:00, ?it/s]"
      ]
     },
     "metadata": {},
     "output_type": "display_data"
    },
    {
     "name": "stdout",
     "output_type": "stream",
     "text": [
      "Failed to convert Ztt raw data for a1rho :(\n"
     ]
    },
    {
     "data": {
      "application/vnd.jupyter.widget-view+json": {
       "model_id": "faa7cb2fa46f4cd683fc9e8e299b973c",
       "version_major": 2,
       "version_minor": 0
      },
      "text/plain": [
       "  0%|          | 0/10 [00:00<?, ?it/s]"
      ]
     },
     "metadata": {},
     "output_type": "display_data"
    }
   ],
   "source": [
    "#convert_bkgd_raw(args.BKGDPATH)"
   ]
  },
  {
   "cell_type": "markdown",
   "id": "e1555fd9",
   "metadata": {},
   "source": [
    "### Preprocessing singal and bkgd from all the decaymodes"
   ]
  },
  {
   "cell_type": "code",
   "execution_count": 18,
   "id": "f30480ce",
   "metadata": {},
   "outputs": [
    {
     "data": {
      "application/vnd.jupyter.widget-view+json": {
       "model_id": "9c03271b4bd84d8bb20c04fb24937271",
       "version_major": 2,
       "version_minor": 0
      },
      "text/plain": [
       "  0%|          | 0/3 [00:00<?, ?it/s]"
      ]
     },
     "metadata": {},
     "output_type": "display_data"
    },
    {
     "name": "stdout",
     "output_type": "stream",
     "text": [
      "Loading data\n",
      "Read 1000000 events\n",
      "Events including background: 2000000\n",
      "SCALE!!\n"
     ]
    }
   ],
   "source": [
    "# events={'nn_rhorho':'RhoRhoEvent', 'nn_a1rho':'A1RhoEvent', 'nn_a1a1':'A1A1Event'}\n",
    "if args.REPRO:\n",
    "    for decaymode in tqdm(decaymodes):\n",
    "        points = []\n",
    "        args.Z_NOISE_FRACTION = 1\n",
    "        args.IN = '/home/anderson/higgs_data/'+decaymode\n",
    "        args.TYPE = 'nn_'+decaymode\n",
    "        data, weights, argmaxs, perm, c012s, hits_argmaxs, hits_c012s = preprocess_data(args)\n",
    "        event = eval(events[args.TYPE])(data, args)\n",
    "        points.append(EventDatasets(event, weights, argmaxs, perm, c012s=c012s, hits_argmaxs=hits_argmaxs,  hits_c012s=hits_c012s, miniset=args.MINISET, unweighted=args.UNWEIGHTED))\n",
    "        pickle.dump(points,open(args.IN+'/events_w_background_2.pk','wb'))\n",
    "        break"
   ]
  },
  {
   "cell_type": "markdown",
   "id": "34d05c89",
   "metadata": {},
   "source": [
    "### Loading bkgd samples"
   ]
  },
  {
   "cell_type": "code",
   "execution_count": 19,
   "id": "60f5aa88",
   "metadata": {},
   "outputs": [],
   "source": [
    "background_points=pickle.load(open(args.IN+'/events_w_background_2.pk','rb'))"
   ]
  },
  {
   "cell_type": "code",
   "execution_count": 20,
   "id": "ea18550a",
   "metadata": {},
   "outputs": [],
   "source": [
    "particle_idx = 0 # 0 for rhorho\n",
    "background=[]\n",
    "background.append(background_points[particle_idx].train.x[background_points[particle_idx].train.weights.sum(axis=1)==0])\n",
    "background.append(background_points[particle_idx].valid.x[background_points[particle_idx].valid.weights.sum(axis=1)==0])\n",
    "background.append(background_points[particle_idx].test.x[background_points[particle_idx].test.weights.sum(axis=1)==0])"
   ]
  },
  {
   "cell_type": "code",
   "execution_count": 21,
   "id": "e1bc2862",
   "metadata": {},
   "outputs": [],
   "source": [
    "background=np.concatenate(background)"
   ]
  },
  {
   "cell_type": "code",
   "execution_count": 22,
   "id": "99964c18",
   "metadata": {},
   "outputs": [],
   "source": [
    "background=torch.tensor(background).float().to(device)"
   ]
  },
  {
   "cell_type": "markdown",
   "id": "9d3885c6",
   "metadata": {},
   "source": [
    "### Testing NN w/ bkgd only"
   ]
  },
  {
   "cell_type": "code",
   "execution_count": 23,
   "id": "78c5c4a5",
   "metadata": {
    "scrolled": true
   },
   "outputs": [
    {
     "data": {
      "application/vnd.jupyter.widget-view+json": {
       "model_id": "a09a85de636840eab8658a3776e15581",
       "version_major": 2,
       "version_minor": 0
      },
      "text/plain": [
       "  0%|          | 0/782 [00:00<?, ?it/s]"
      ]
     },
     "metadata": {},
     "output_type": "display_data"
    }
   ],
   "source": [
    "model.load_state_dict(torch.load('model/best_model.pt'))\n",
    "model.eval()\n",
    "with torch.no_grad():\n",
    "    outputs=[]\n",
    "    for i in tqdm(range(0, 400000,batch_size)):\n",
    "        outputs.append(model(background[i:i+batch_size]).detach().cpu())\n",
    "outputs=torch.cat(outputs)\n",
    "\n",
    "bg_outputs=torch.argmax(torch.softmax(outputs,axis=1),axis=1).numpy()\n",
    "bg_labels_counts=np.unique(bg_outputs,return_counts=True)[1]"
   ]
  },
  {
   "cell_type": "code",
   "execution_count": 24,
   "id": "acf7eee0",
   "metadata": {},
   "outputs": [],
   "source": [
    "pickle.dump(bg_outputs,open(args.IN+'/NN_outputs_background_only.pk','wb'))"
   ]
  },
  {
   "cell_type": "markdown",
   "id": "aa5464f5",
   "metadata": {},
   "source": [
    "### Testing NN w/ signal only (Class 0)"
   ]
  },
  {
   "cell_type": "code",
   "execution_count": 25,
   "id": "5c45659f",
   "metadata": {},
   "outputs": [],
   "source": [
    "model.load_state_dict(torch.load('model/best_model.pt'))\n",
    "model.eval()\n",
    "with torch.no_grad():\n",
    "    signal_outputs,signal_labels=[],[]\n",
    "    for batch_idx, (rhorho_s,rhorho_t,label_s,_) in enumerate(train_loader):\n",
    "        signal_outputs.append(model(rhorho_s).detach().cpu())\n",
    "        signal_labels.append(label_s.detach().cpu())\n",
    "signal_outputs=torch.softmax(torch.cat(signal_outputs),axis=1).numpy()\n",
    "signal_labels=np.concatenate(signal_labels)\n",
    "\n",
    "####### Filtering signal outputs that are classified to Class 0\n",
    "signal_outputs=signal_outputs[np.argmax(signal_labels,axis=1)==0]\n",
    "signal_labels=np.argmax(signal_outputs,axis=1)"
   ]
  },
  {
   "cell_type": "code",
   "execution_count": 26,
   "id": "6e367615",
   "metadata": {},
   "outputs": [],
   "source": [
    "pickle.dump(signal_outputs,open(args.IN+'/NN_outputs_signal_only.pk','wb'))"
   ]
  },
  {
   "cell_type": "markdown",
   "id": "227a5a8e",
   "metadata": {},
   "source": [
    "### Test Results"
   ]
  },
  {
   "cell_type": "code",
   "execution_count": 27,
   "id": "7d400b03",
   "metadata": {},
   "outputs": [],
   "source": [
    "bg_outputs = pickle.load(open(args.IN+'/NN_outputs_background_only.pk','rb'))\n",
    "signal_outputs= pickle.load(open(args.IN+'/NN_outputs_signal_only.pk','rb'))"
   ]
  },
  {
   "cell_type": "code",
   "execution_count": null,
   "id": "a5a5e3e3",
   "metadata": {},
   "outputs": [],
   "source": [
    "#plt.fill_between(np.arange(args.NUM_CLASSES-1),0,bg_labels_counts,alpha=1,hatch='/', facecolor=\"skyblue\")\n",
    "#plt.fill_between(np.arange(args.NUM_CLASSES-1),bg_labels_counts,bg_labels_counts+signal_labels_counts,color='red',alpha=1)\n",
    "#plt.fill_between(np.arange(args.NUM_CLASSES-1),outputs.mean(axis=0)[:args.NUM_CLASSES-1],outputs.mean(axis=0)[:args.NUM_CLASSES-1]+signal_outputs[np.argmax(signal_labels,axis=1)==0].mean(axis=0)[:args.NUM_CLASSES-1],color='red',alpha=1)"
   ]
  },
  {
   "cell_type": "code",
   "execution_count": null,
   "id": "59fb9962",
   "metadata": {
    "scrolled": false
   },
   "outputs": [],
   "source": [
    "# create the dataframe; enumerate is used to make column names\n",
    "#columns=['Ztt','Signal']\n",
    "#fig,ax=plt.subplots(dpi=150)\n",
    "#plt.xlabel(\"Classes\")\n",
    "#lt.ylabel(\"Events\")\n",
    "#df = pd.concat([pd.DataFrame(a, columns=[columns[i]]) for i, a in enumerate([bg_outputs, np.argmax(signal_outputs,axis=1)], 0)], axis=1)\n",
    "\n",
    "# plot the data\n",
    "#ax.set_xlim(0,args.NUM_CLASSES-2)\n",
    "#ax = df.plot.hist(stacked=True, bins=args.NUM_CLASSES-1,ax=ax, color = ['skyblue','red']).get_figure()\n",
    "# ax.set_xticks(np.arange(args.NUM_CLASSES-2))\n",
    "# ax.set_xticklabels((np.linspace(0,2,args.NUM_CLASSES-2)*np.pi))\n",
    "# bars = ax.patches\n",
    "# hatches = ['/','\\\\']\n",
    "\n",
    "# for i in range(2):\n",
    "#     for j in range(args.NUM_CLASSES-1):\n",
    "#         bars[i*(args.NUM_CLASSES-1)+j].set_hatch(hatches[i])"
   ]
  },
  {
   "cell_type": "code",
   "execution_count": 28,
   "id": "cbc973d1",
   "metadata": {},
   "outputs": [
    {
     "data": {
      "image/png": "[encoded data removed]",
      "text/plain": [
       "<Figure size 900x600 with 1 Axes>"
      ]
     },
     "metadata": {
      "needs_background": "light"
     },
     "output_type": "display_data"
    }
   ],
   "source": [
    "fig,ax=plt.subplots(dpi=150)\n",
    "\n",
    "Ztt = bg_outputs\n",
    "Signal = np.array(np.argmax(signal_outputs,axis=1))\n",
    "\n",
    "plt.xlabel(\"Classes\")\n",
    "plt.ylabel(\"Events\")\n",
    "\n",
    "# plot the data\n",
    "bins = args.NUM_CLASSES\n",
    "ax.set_xlim(0,bins-1)\n",
    "#entries, edges, _ = ax.hist(Ztt, bins, color = 'skyblue', stacked=True)\n",
    "entries, edges, _ = plt.hist([Ztt,Signal], bins, color = ['skyblue', 'red'], stacked=True, label=['Ztt','Signal'])\n",
    "\n",
    "ax.legend()\n",
    "\n",
    "# calculate bin centers\n",
    "bin_centers = 0.5 * (edges[:-1] + edges[1:])\n",
    "\n",
    "# draw error bars\n",
    "Ztt_std = np.sqrt(entries[0])\n",
    "plt.errorbar(bin_centers, entries[0], yerr=Ztt_std, ls='none', ecolor='black')\n",
    "\n",
    "plt.show()"
   ]
  },
  {
   "cell_type": "code",
   "execution_count": 29,
   "id": "f5829338",
   "metadata": {},
   "outputs": [
    {
     "data": {
      "image/png": "[encoded data removed]",
      "text/plain": [
       "<Figure size 900x600 with 1 Axes>"
      ]
     },
     "metadata": {
      "needs_background": "light"
     },
     "output_type": "display_data"
    }
   ],
   "source": [
    "fig,ax=plt.subplots(dpi=150)\n",
    "\n",
    "Ztt = bg_outputs\n",
    "Signal = np.array(np.argmax(signal_outputs,axis=1))\n",
    "\n",
    "plt.xlabel(\"Classes\")\n",
    "plt.ylabel(\"Events\")\n",
    "\n",
    "# plot the data\n",
    "bins = args.NUM_CLASSES\n",
    "ax.set_xlim(0,bins-1)\n",
    "#entries, edges, _ = ax.hist(Ztt, bins, color = 'skyblue', stacked=True)\n",
    "#entries, edges, _ = plt.hist(Ztt, bins, color = 'skyblue', label='Ztt')\n",
    "entries, edges, _ = plt.hist(Signal, bins, color = 'red', label='Signal')\n",
    "\n",
    "ax.legend()\n",
    "\n",
    "# calculate bin centers\n",
    "#bin_centers = 0.5 * (edges[:-1] + edges[1:])\n",
    "\n",
    "# draw error bars\n",
    "#Ztt_std = np.sqrt(entries)\n",
    "#plt.errorbar(bin_centers, entries, yerr=Ztt_std, ls='none', ecolor='black')\n",
    "\n",
    "plt.show()"
   ]
  },
  {
   "cell_type": "code",
   "execution_count": 30,
   "id": "1784e144",
   "metadata": {},
   "outputs": [
    {
     "name": "stdout",
     "output_type": "stream",
     "text": [
      "[283720.   7964.  12319.  12604.  11986.  10146.  14963.   9971.  11385.\n",
      "   8775. 158876.]\n"
     ]
    }
   ],
   "source": [
    "print(entries)"
   ]
  },
  {
   "cell_type": "code",
   "execution_count": 31,
   "id": "d2efb10b",
   "metadata": {},
   "outputs": [
    {
     "data": {
      "image/png": "[encoded data removed]",
      "text/plain": [
       "<Figure size 900x600 with 1 Axes>"
      ]
     },
     "metadata": {
      "needs_background": "light"
     },
     "output_type": "display_data"
    }
   ],
   "source": [
    "fig,ax=plt.subplots(dpi=150)\n",
    "\n",
    "Ztt = bg_outputs\n",
    "Signal = np.array(np.argmax(signal_outputs,axis=1))\n",
    "\n",
    "plt.xlabel(\"Classes\")\n",
    "plt.ylabel(\"Events\")\n",
    "\n",
    "# plot the data\n",
    "bins = args.NUM_CLASSES\n",
    "ax.set_xlim(0,bins-1)\n",
    "#entries, edges, _ = ax.hist(Ztt, bins, color = 'skyblue', stacked=True)\n",
    "entries, edges, _ = plt.hist(Ztt, bins, color = 'skyblue', label='Ztt')\n",
    "#entries, edges, _ = plt.hist(Signal, bins, color = 'red', label='Signal')\n",
    "\n",
    "ax.legend()\n",
    "\n",
    "# calculate bin centers\n",
    "bin_centers = 0.5 * (edges[:-1] + edges[1:])\n",
    "\n",
    "# draw error bars\n",
    "Ztt_std = np.sqrt(entries)\n",
    "plt.errorbar(bin_centers, entries, yerr=Ztt_std, ls='none', ecolor='black')\n",
    "\n",
    "plt.show()"
   ]
  },
  {
   "cell_type": "code",
   "execution_count": 32,
   "id": "0bb3c2a1",
   "metadata": {},
   "outputs": [
    {
     "name": "stdout",
     "output_type": "stream",
     "text": [
      "[148026.   7105.  12009.  12407.  11933.  10067.  14867.  10047.  11284.\n",
      "   8980. 153659.]\n"
     ]
    }
   ],
   "source": [
    "print(entries)"
   ]
  },
  {
   "cell_type": "code",
   "execution_count": null,
   "id": "66b015c3",
   "metadata": {},
   "outputs": [],
   "source": []
  },
  {
   "cell_type": "code",
   "execution_count": null,
   "id": "1194f8a9",
   "metadata": {},
   "outputs": [],
   "source": []
  }
 ],
 "metadata": {
  "kernelspec": {
   "display_name": "Python 3 (ipykernel)",
   "language": "python",
   "name": "python3"
  },
  "language_info": {
   "codemirror_mode": {
    "name": "ipython",
    "version": 3
   },
   "file_extension": ".py",
   "mimetype": "text/x-python",
   "name": "python",
   "nbconvert_exporter": "python",
   "pygments_lexer": "ipython3",
   "version": "3.9.7"
  }
 },
 "nbformat": 4,
 "nbformat_minor": 5
}
