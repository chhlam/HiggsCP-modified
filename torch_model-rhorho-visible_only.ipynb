{
 "cells": [
  {
   "cell_type": "code",
   "execution_count": 1,
   "metadata": {},
   "outputs": [],
   "source": [
    "import numpy as np\n",
    "import torch\n",
    "import torch.nn as nn\n",
    "import torch.nn.functional as F\n",
    "import pickle\n",
    "from tqdm.notebook import tqdm\n",
    "from Eearly_stop import *\n",
    "from sklearn.metrics import roc_auc_score, accuracy_score\n",
    "import sys\n",
    "import pandas as pd\n",
    "import argparse\n",
    "import os\n",
    "import matplotlib.pyplot as plt\n",
    "import warnings\n",
    "warnings.filterwarnings('ignore')\n",
    "import math\n",
    "from torch.utils.data import Dataset, DataLoader\n",
    "from src_py.cpmix_utils import preprocess_data\n",
    "from src_py.rhorho import RhoRhoEvent\n",
    "from src_py.a1a1 import A1A1Event\n",
    "from src_py.a1rho import A1RhoEvent\n",
    "from src_py.data_utils import read_np, EventDatasets\n",
    "from src_py.process_background import convert_bkgd_raw\n",
    "import train_rhorho, train_a1rho, train_a1a1\n",
    "from src_py.metrics_utils import calculate_deltas_unsigned, calculate_deltas_signed"
   ]
  },
  {
   "cell_type": "code",
   "execution_count": 2,
   "metadata": {},
   "outputs": [
    {
     "name": "stdout",
     "output_type": "stream",
     "text": [
      "Using cpu device\n"
     ]
    }
   ],
   "source": [
    "device = torch.device('cuda:0') if torch.cuda.is_available() else torch.device('cpu')\n",
    "print('Using {} device'.format(device))"
   ]
  },
  {
   "cell_type": "code",
   "execution_count": 3,
   "metadata": {},
   "outputs": [],
   "source": [
    "decaymodes = ['rhorho', 'a1rho', 'a1a1']\n",
    "types = {\"nn_rhorho\": train_rhorho.start,\"nn_a1rho\": train_a1rho.start,\"nn_a1a1\": train_a1a1.start}\n",
    "parser = argparse.ArgumentParser(description='Train classifier')\n",
    "\n",
    "parser.add_argument(\"--num_classes\", dest=\"NUM_CLASSES\", type=int, default=11)\n",
    "parser.add_argument(\"-l\", \"--layers\", dest=\"LAYERS\", type=int, help = \"number of NN layers\", default=6)\n",
    "parser.add_argument(\"-s\", \"--size\", dest=\"SIZE\", type=int, help=\"NN size\", default=100)\n",
    "parser.add_argument(\"-lambda\", \"--lambda\", type=float, dest=\"LAMBDA\", help=\"value of lambda parameter\", default=0.0)\n",
    "parser.add_argument(\"-m\", \"--method\", dest=\"METHOD\", choices=[\"A\", \"B\", \"C\"], default=\"A\")\n",
    "parser.add_argument(\"-o\", \"--optimizer\", dest=\"OPT\", \n",
    "    choices=[\"GradientDescentOptimizer\", \"AdadeltaOptimizer\", \"AdagradOptimizer\",\n",
    "         \"ProximalAdagradOptimizer\", \"AdamOptimizer\", \"FtrlOptimizer\",\n",
    "         \"ProximalGradientDescentOptimizer\", \"RMSPropOptimizer\"], default=\"AdamOptimizer\")\n",
    "parser.add_argument(\"-d\", \"--dropout\", dest=\"DROPOUT\", type=float, default=0.0)\n",
    "parser.add_argument(\"-e\", \"--epochs\", dest=\"EPOCHS\", type=int, default=3)\n",
    "# parser.add_argument(\"-f\", \"--features\", dest=\"FEAT\", help=\"Features\", default=\"Variant-All\")\n",
    "# #         choices= [\"Variant-All\", \"Variant-1.0\", \"Variant-1.1\", \"Variant-2.0\", \"Variant-2.1\",\n",
    "# #                   \"Variant-2.2\", \"Variant-3.0\", \"Variant-3.1\", \"Variant-4.0\", \"Variant-4.1\"])\n",
    "\n",
    "########### Change this to according dir to download data #######################\n",
    "parser.add_argument(\"-i\", \"--input\", dest=\"IN\", default='/home/anderson/higgs_data/rhorho')\n",
    "\n",
    "parser.add_argument(\"--miniset\", dest=\"MINISET\", type=lambda s: s.lower() in ['true', 't', 'yes', '1'], default=False)\n",
    "parser.add_argument(\"--z_noise_fraction\", dest=\"Z_NOISE_FRACTION\", type=float, default=0.0)\n",
    "\n",
    "parser.add_argument(\"--delt_classes\", dest=\"DELT_CLASSES\", type=int, default=0,\n",
    "                    help='Maximal distance between predicted and valid class for event being considered as correctly classified')\n",
    "\n",
    "parser.add_argument(\"--unweighted\", dest=\"UNWEIGHTED\", type=lambda s: s.lower() in ['true', 't', 'yes', '1'], default=False)\n",
    "parser.add_argument(\"--reuse_weights\", dest=\"REUSE_WEIGHTS\", type=bool, default=False)\n",
    "parser.add_argument(\"--restrict_most_probable_angle\", dest=\"RESTRICT_MOST_PROBABLE_ANGLE\", type=bool, default=False)\n",
    "parser.add_argument(\"--force_download\", dest=\"FORCE_DOWNLOAD\", type=bool, default=False)\n",
    "parser.add_argument(\"--normalize_weights\", dest=\"NORMALIZE_WEIGHTS\", type=bool, default=False)\n",
    "\n",
    "\n",
    "parser.add_argument(\"--beta\",  type=float, dest=\"BETA\", help=\"value of beta parameter for polynomial smearing\", default=0.0)\n",
    "parser.add_argument(\"--pol_b\", type=float, dest=\"pol_b\", help=\"value of b parameter for polynomial smearing\", default=0.0)\n",
    "parser.add_argument(\"--pol_c\", type=float, dest=\"pol_c\", help=\"value of c parameter for polynomial smearing\", default=0.0)\n",
    "\n",
    "parser.add_argument(\"--w1\", dest=\"W1\")\n",
    "parser.add_argument(\"--w2\", dest=\"W2\")\n",
    "parser.add_argument(\"--f\", dest=\"FEAT\", default=\"Variant-All\")\n",
    "parser.add_argument(\"--plot_features\", dest=\"PLOT_FEATURES\", choices=[\"NO\", \"FILTER\", \"NO-FILTER\"], default=\"NO\")\n",
    "parser.add_argument(\"--training_method\", dest=\"TRAINING_METHOD\", choices=[\"soft_weights\", \"soft_c012s\",  \"soft_argmaxs\", \"regr_c012s\", \"regr_weights\", \"regr_argmaxs\"], default=\"soft_weights\")\n",
    "parser.add_argument(\"--hits_c012s\", dest=\"HITS_C012s\", choices=[\"hits_c0s\", \"hits_c1s\",  \"hits_c2s\"], default=\"hits_c0s\")\n",
    "\n",
    "######Change this to according type (rhorho, a1rho, a1a1)#######################\n",
    "parser.add_argument(\"-t\", \"--type\", dest=\"TYPE\", choices=types.keys(), default='nn_rhorho')\n",
    "\n",
    "parser.add_argument(\"-r\", \"--reprocess\", dest=\"REPRO\", type=bool, default=True)\n",
    "\n",
    "parser.add_argument(\"-bkgd\", \"--bkgdpath\", dest=\"BKGDPATH\", default='/home/anderson/Ztt_raw/pythia.Z_115_135.%s.1M.*.outTUPLE_labFrame')\n",
    "parser.add_argument(\"--train_bkgd\", dest=\"TRAINBKGD\", default=False)\n",
    "parser.add_argument(\"--z_fraction\", dest=\"Z_FRACTION\", type=float, default=0.0)\n",
    "\n",
    "args, unknown = parser.parse_known_args()"
   ]
  },
  {
   "cell_type": "markdown",
   "metadata": {},
   "source": [
    "### Preprocessing signal samples from all the decaymodes"
   ]
  },
  {
   "cell_type": "code",
   "execution_count": 4,
   "metadata": {},
   "outputs": [
    {
     "name": "stdout",
     "output_type": "stream",
     "text": [
      "Welcome to JupyROOT 6.24/06\n"
     ]
    }
   ],
   "source": [
    "from ROOT import Math\n",
    "\n",
    "def Cart4DToPtEtaPhiE(data):\n",
    "    print(\"Converting p4 to HEP coordinates\")\n",
    "    df_data = pd.DataFrame(data)\n",
    "    \n",
    "    particle_name = ['n', 'pi-', 'pi0_1', 'an', 'pi+', 'pi0_2']\n",
    "    df_data.columns = pd.MultiIndex.from_arrays([sum([[x]*4 for x in particle_name],[]), ['p_x', 'p_y', 'p_z', 'E']*6])\n",
    "\n",
    "    particle_PtEtaPhiE={}\n",
    "    for particle in particle_name:\n",
    "        total_res = {}\n",
    "        for index, row in tqdm(df_data[particle].iterrows(),total=df_data[particle].shape[0]):\n",
    "            res = Math.PxPyPzEVector(*row.values.tolist())\n",
    "            total_res[index] = (res.pt(), res.eta(), res.phi(), res.e())\n",
    "        particle_PtEtaPhiE[particle] = total_res\n",
    "\n",
    "    PtEtaPhiE = [pd.DataFrame(particle_PtEtaPhiE[particle].values(), columns=[particle+x for x in ['_pt','_eta','_phi','_E']]) for particle in particle_name]\n",
    "    return PtEtaPhiE"
   ]
  },
  {
   "cell_type": "code",
   "execution_count": 5,
   "metadata": {},
   "outputs": [
    {
     "data": {
      "application/vnd.jupyter.widget-view+json": {
       "model_id": "5a56368c2c014968831712bdfaf8af45",
       "version_major": 2,
       "version_minor": 0
      },
      "text/plain": [
       "  0%|          | 0/3 [00:00<?, ?it/s]"
      ]
     },
     "metadata": {},
     "output_type": "display_data"
    },
    {
     "name": "stdout",
     "output_type": "stream",
     "text": [
      "Loading data\n",
      "Read 1000000 events\n",
      "Converting p4 to HEP coordinates\n"
     ]
    },
    {
     "data": {
      "application/vnd.jupyter.widget-view+json": {
       "model_id": "08db185c147448798e0c2a08036ee0a4",
       "version_major": 2,
       "version_minor": 0
      },
      "text/plain": [
       "  0%|          | 0/1000000 [00:00<?, ?it/s]"
      ]
     },
     "metadata": {},
     "output_type": "display_data"
    },
    {
     "data": {
      "application/vnd.jupyter.widget-view+json": {
       "model_id": "46af0d183ba9419195e0a73412f410f5",
       "version_major": 2,
       "version_minor": 0
      },
      "text/plain": [
       "  0%|          | 0/1000000 [00:00<?, ?it/s]"
      ]
     },
     "metadata": {},
     "output_type": "display_data"
    },
    {
     "data": {
      "application/vnd.jupyter.widget-view+json": {
       "model_id": "b58524e3c8144389ae1f6e9bcbffc4d0",
       "version_major": 2,
       "version_minor": 0
      },
      "text/plain": [
       "  0%|          | 0/1000000 [00:00<?, ?it/s]"
      ]
     },
     "metadata": {},
     "output_type": "display_data"
    },
    {
     "data": {
      "application/vnd.jupyter.widget-view+json": {
       "model_id": "c895938abece4c6980780ac5bba1c462",
       "version_major": 2,
       "version_minor": 0
      },
      "text/plain": [
       "  0%|          | 0/1000000 [00:00<?, ?it/s]"
      ]
     },
     "metadata": {},
     "output_type": "display_data"
    },
    {
     "data": {
      "application/vnd.jupyter.widget-view+json": {
       "model_id": "93bf78cc1d924df3b6cde8178e5808d3",
       "version_major": 2,
       "version_minor": 0
      },
      "text/plain": [
       "  0%|          | 0/1000000 [00:00<?, ?it/s]"
      ]
     },
     "metadata": {},
     "output_type": "display_data"
    },
    {
     "data": {
      "application/vnd.jupyter.widget-view+json": {
       "model_id": "212f0c7bf6284fe89dd1e3e447bc678c",
       "version_major": 2,
       "version_minor": 0
      },
      "text/plain": [
       "  0%|          | 0/1000000 [00:00<?, ?it/s]"
      ]
     },
     "metadata": {},
     "output_type": "display_data"
    },
    {
     "name": "stdout",
     "output_type": "stream",
     "text": [
      "(1000000, 16)\n",
      "SCALE!!\n"
     ]
    }
   ],
   "source": [
    "events={'nn_rhorho':'RhoRhoEvent', 'nn_a1rho':'A1RhoEvent', 'nn_a1a1':'A1A1Event'}\n",
    "if args.REPRO:\n",
    "    for decaymode in tqdm(decaymodes):\n",
    "        points = []\n",
    "        args.IN = '/home/anderson/higgs_data/'+decaymode\n",
    "        args.TYPE = 'nn_'+decaymode\n",
    "        data, weights, argmaxs, perm, c012s, hits_argmaxs, hits_c012s = preprocess_data(args)\n",
    "        event = RhoRhoEvent(data, args)\n",
    "        # convert p4 to HEP coordinates\n",
    "        raw_df = Cart4DToPtEtaPhiE(event.cols)\n",
    "        visible_part_id = [1, 2, 4, 5]\n",
    "        raw_df_concat = pd.concat([raw_df[i] for i in visible_part_id], axis=1)\n",
    "        event.cols = np.append(raw_df_concat.to_numpy(),np.zeros([len(event.cols),1]),1)\n",
    "        points.append(EventDatasets(event, weights, argmaxs, perm, c012s=c012s, hits_argmaxs=hits_argmaxs, hits_c012s=hits_c012s, miniset=args.MINISET, unweighted=args.UNWEIGHTED))\n",
    "        pickle.dump(points,open(args.IN+'/events_PtEtaPhiE_visible_only_11.pk','wb'))\n",
    "        break"
   ]
  },
  {
   "cell_type": "markdown",
   "metadata": {},
   "source": [
    "### Loading signal samples"
   ]
  },
  {
   "cell_type": "code",
   "execution_count": 6,
   "metadata": {},
   "outputs": [],
   "source": [
    "points=pickle.load(open(args.IN+'/events_PtEtaPhiE_visible_only_11.pk','rb'))"
   ]
  },
  {
   "cell_type": "markdown",
   "metadata": {},
   "source": [
    "### Training NN"
   ]
  },
  {
   "cell_type": "code",
   "execution_count": 7,
   "metadata": {},
   "outputs": [],
   "source": [
    "batch_size=512"
   ]
  },
  {
   "cell_type": "code",
   "execution_count": 8,
   "metadata": {},
   "outputs": [],
   "source": [
    "class MyDataset(Dataset):\n",
    "    def __init__(self, rhorho_data_mc,rhorho_data_true,rhorho_labels_mc,rhorho_labels_true):\n",
    "        self.rhorho_data_mc = torch.from_numpy(rhorho_data_mc).float().to(device)\n",
    "        self.rhorho_data_true = torch.from_numpy(rhorho_data_true).float().to(device)\n",
    "        \n",
    "        self.rhorho_labels_mc =torch.from_numpy(rhorho_labels_mc).float().to(device)\n",
    "        self.rhorho_labels_true =torch.from_numpy(rhorho_labels_true).float().to(device)\n",
    "    def __getitem__(self, index):\n",
    "        return self.rhorho_data_mc[index],self.rhorho_data_true[index],self.rhorho_labels_mc[index],self.rhorho_labels_true[index]\n",
    "    def __len__(self):\n",
    "        return min(len(self.rhorho_labels_mc),len(self.rhorho_labels_true))"
   ]
  },
  {
   "cell_type": "code",
   "execution_count": 9,
   "metadata": {},
   "outputs": [],
   "source": [
    "class NeuralNetwork(nn.Module):\n",
    "    def __init__(self, num_features, num_classes, num_layers=1, size=100, lr=1e-3, drop_prob=0, inplace=False, \n",
    "                 tloss=\"regr_weights\", activation='linear', input_noise=0.0, optimizer=\"AdamOptimizer\"):\n",
    "        super(NeuralNetwork, self).__init__()\n",
    "        self.linear1 = nn.Linear(num_features,size,bias=False)\n",
    "        layers = []\n",
    "        for i in range(num_layers):\n",
    "            layers.extend([nn.Linear(size,size,bias=False),\n",
    "                           nn.BatchNorm1d(size),\n",
    "                           nn.ReLU(),\n",
    "                           nn.Dropout(drop_prob, inplace)\n",
    "                          ])\n",
    "        self.linear_relu_stack = nn.Sequential(*layers)\n",
    "        self.linear2 = nn.Linear(size,num_classes,bias=False)\n",
    "        self.linear3 = nn.Linear(size,2,bias=False)\n",
    "    def forward(self, x):\n",
    "        x = self.linear1(x)\n",
    "        x = self.linear_relu_stack(x)\n",
    "        out = self.linear2(x)\n",
    "        return out"
   ]
  },
  {
   "cell_type": "code",
   "execution_count": 10,
   "metadata": {},
   "outputs": [],
   "source": [
    "particle_idx=0\n",
    "\n",
    "mc_train_idx=np.random.choice(np.arange(points[particle_idx].train.x.shape[0]),int(points[particle_idx].train.x.shape[0]*0.5),replace=False)\n",
    "true_train_idx=list(set(np.arange(points[particle_idx].train.x.shape[0]))-set(mc_train_idx))\n",
    "\n",
    "mc_valid_idx=np.random.choice(np.arange(points[particle_idx].valid.x.shape[0]),int(points[particle_idx].valid.x.shape[0]*0.5),replace=False)\n",
    "true_valid_idx=list(set(np.arange(points[particle_idx].valid.x.shape[0]))-set(mc_train_idx))\n",
    "\n",
    "mc_test_idx=np.random.choice(np.arange(points[particle_idx].test.x.shape[0]),int(points[particle_idx].test.x.shape[0]*0.5),replace=False)\n",
    "true_test_idx=list(set(np.arange(points[particle_idx].test.x.shape[0]))-set(mc_train_idx))"
   ]
  },
  {
   "cell_type": "code",
   "execution_count": 11,
   "metadata": {},
   "outputs": [],
   "source": [
    "uncertainty=0.0\n",
    "\n",
    "train_datasets = MyDataset(points[particle_idx].train.x[mc_train_idx], points[particle_idx].train.x[true_train_idx]+uncertainty*np.random.normal(0,1,size=points[particle_idx].train.x[true_train_idx].shape),\n",
    "                          points[particle_idx].train.weights[mc_train_idx],points[particle_idx].train.weights[true_train_idx])\n",
    "train_loader = DataLoader(dataset = train_datasets,batch_size = batch_size,shuffle = True)\n",
    "\n",
    "\n",
    "valid_datasets = MyDataset(points[particle_idx].valid.x[mc_valid_idx], points[particle_idx].valid.x[true_valid_idx]+uncertainty*np.random.normal(0,1,size=points[particle_idx].valid.x[true_valid_idx].shape),\n",
    "                          points[particle_idx].valid.weights[mc_valid_idx],points[particle_idx].valid.weights[true_valid_idx])\n",
    "valid_loader = DataLoader(dataset = valid_datasets,batch_size = batch_size,shuffle = True)\n",
    "\n",
    "\n",
    "test_datasets = MyDataset(points[particle_idx].test.x[mc_test_idx], points[particle_idx].test.x[true_test_idx]+uncertainty*np.random.normal(0,1,size=points[particle_idx].test.x[true_test_idx].shape),\n",
    "                          points[particle_idx].test.weights[mc_test_idx],points[particle_idx].test.weights[true_test_idx])\n",
    "test_loader = DataLoader(dataset = test_datasets,batch_size = batch_size,shuffle = True)"
   ]
  },
  {
   "cell_type": "code",
   "execution_count": 12,
   "metadata": {},
   "outputs": [],
   "source": [
    "model = NeuralNetwork(num_features=points[particle_idx].train.x.shape[1], num_classes=args.NUM_CLASSES,num_layers=args.LAYERS,drop_prob=0).to(device)\n",
    "opt_g = torch.optim.Adam(model.parameters(),lr=1e-3)\n",
    "criterion = nn.CrossEntropyLoss()\n",
    "early_stopping = EarlyStopping(patience=20, verbose=True,path='model/pTEtaPhiE_visible_only.pt')"
   ]
  },
  {
   "cell_type": "code",
   "execution_count": 13,
   "metadata": {},
   "outputs": [
    {
     "name": "stdout",
     "output_type": "stream",
     "text": [
      " training loss: 2.094 \t acc: 0.230 \t\n",
      " validation loss: 2.028 \t acc: 0.255 \t\n",
      "Validation loss decreased (inf --> -0.254917).  Saving model ...\n",
      "\n",
      " training loss: 2.020 \t acc: 0.257 \t\n",
      " validation loss: 2.016 \t acc: 0.259 \t\n",
      "Validation loss decreased (-0.254917 --> -0.259357).  Saving model ...\n",
      "\n",
      " training loss: 2.010 \t acc: 0.261 \t\n",
      " validation loss: 2.009 \t acc: 0.264 \t\n",
      "Validation loss decreased (-0.259357 --> -0.263696).  Saving model ...\n",
      "\n",
      " training loss: 2.003 \t acc: 0.264 \t\n",
      " validation loss: 2.008 \t acc: 0.263 \t\n",
      "EarlyStopping counter: 1 out of 20\n",
      "\n",
      " training loss: 1.999 \t acc: 0.265 \t\n",
      " validation loss: 2.001 \t acc: 0.266 \t\n",
      "Validation loss decreased (-0.263696 --> -0.265745).  Saving model ...\n",
      "\n",
      " training loss: 1.996 \t acc: 0.266 \t\n",
      " validation loss: 2.001 \t acc: 0.265 \t\n",
      "EarlyStopping counter: 1 out of 20\n",
      "\n",
      " training loss: 1.993 \t acc: 0.267 \t\n",
      " validation loss: 1.993 \t acc: 0.267 \t\n",
      "Validation loss decreased (-0.265745 --> -0.266850).  Saving model ...\n",
      "\n",
      " training loss: 1.991 \t acc: 0.268 \t\n",
      " validation loss: 1.992 \t acc: 0.269 \t\n",
      "Validation loss decreased (-0.266850 --> -0.269361).  Saving model ...\n",
      "\n",
      " training loss: 1.988 \t acc: 0.269 \t\n",
      " validation loss: 1.989 \t acc: 0.270 \t\n",
      "Validation loss decreased (-0.269361 --> -0.270326).  Saving model ...\n",
      "\n",
      " training loss: 1.986 \t acc: 0.269 \t\n",
      " validation loss: 1.992 \t acc: 0.267 \t\n",
      "EarlyStopping counter: 1 out of 20\n",
      "\n",
      " training loss: 1.985 \t acc: 0.270 \t\n",
      " validation loss: 1.992 \t acc: 0.266 \t\n",
      "EarlyStopping counter: 2 out of 20\n",
      "\n",
      " training loss: 1.982 \t acc: 0.270 \t\n",
      " validation loss: 1.984 \t acc: 0.271 \t\n",
      "Validation loss decreased (-0.270326 --> -0.271310).  Saving model ...\n",
      "\n",
      " training loss: 1.981 \t acc: 0.272 \t\n",
      " validation loss: 1.989 \t acc: 0.266 \t\n",
      "EarlyStopping counter: 1 out of 20\n",
      "\n",
      " training loss: 1.980 \t acc: 0.271 \t\n",
      " validation loss: 1.986 \t acc: 0.268 \t\n",
      "EarlyStopping counter: 2 out of 20\n",
      "\n",
      " training loss: 1.978 \t acc: 0.272 \t\n",
      " validation loss: 1.986 \t acc: 0.268 \t\n",
      "EarlyStopping counter: 3 out of 20\n",
      "\n",
      " training loss: 1.978 \t acc: 0.272 \t\n",
      " validation loss: 1.988 \t acc: 0.266 \t\n",
      "EarlyStopping counter: 4 out of 20\n",
      "\n",
      " training loss: 1.977 \t acc: 0.272 \t\n",
      " validation loss: 1.983 \t acc: 0.270 \t\n",
      "EarlyStopping counter: 5 out of 20\n",
      "\n",
      " training loss: 1.975 \t acc: 0.273 \t\n",
      " validation loss: 1.984 \t acc: 0.269 \t\n",
      "EarlyStopping counter: 6 out of 20\n",
      "\n",
      " training loss: 1.975 \t acc: 0.273 \t\n",
      " validation loss: 1.986 \t acc: 0.269 \t\n",
      "EarlyStopping counter: 7 out of 20\n",
      "\n",
      " training loss: 1.974 \t acc: 0.273 \t\n",
      " validation loss: 1.984 \t acc: 0.267 \t\n",
      "EarlyStopping counter: 8 out of 20\n",
      "\n",
      " training loss: 1.973 \t acc: 0.274 \t\n",
      " validation loss: 1.984 \t acc: 0.268 \t\n",
      "EarlyStopping counter: 9 out of 20\n",
      "\n",
      " training loss: 1.971 \t acc: 0.275 \t\n",
      " validation loss: 1.983 \t acc: 0.268 \t\n",
      "EarlyStopping counter: 10 out of 20\n",
      "\n",
      " training loss: 1.971 \t acc: 0.274 \t\n",
      " validation loss: 1.984 \t acc: 0.269 \t\n",
      "EarlyStopping counter: 11 out of 20\n",
      "\n",
      " training loss: 1.970 \t acc: 0.275 \t\n",
      " validation loss: 1.982 \t acc: 0.270 \t\n",
      "EarlyStopping counter: 12 out of 20\n",
      "\n",
      " training loss: 1.969 \t acc: 0.275 \t\n",
      " validation loss: 1.981 \t acc: 0.269 \t\n",
      "EarlyStopping counter: 13 out of 20\n",
      "\n",
      " training loss: 1.968 \t acc: 0.275 \t\n",
      " validation loss: 1.982 \t acc: 0.268 \t\n",
      "EarlyStopping counter: 14 out of 20\n",
      "\n",
      " training loss: 1.967 \t acc: 0.276 \t\n",
      " validation loss: 1.985 \t acc: 0.267 \t\n",
      "EarlyStopping counter: 15 out of 20\n",
      "\n",
      " training loss: 1.967 \t acc: 0.276 \t\n",
      " validation loss: 1.986 \t acc: 0.267 \t\n",
      "EarlyStopping counter: 16 out of 20\n",
      "\n",
      " training loss: 1.966 \t acc: 0.276 \t\n",
      " validation loss: 1.982 \t acc: 0.269 \t\n",
      "EarlyStopping counter: 17 out of 20\n",
      "\n",
      " training loss: 1.965 \t acc: 0.277 \t\n",
      " validation loss: 1.983 \t acc: 0.268 \t\n",
      "EarlyStopping counter: 18 out of 20\n",
      "\n",
      " training loss: 1.964 \t acc: 0.277 \t\n",
      " validation loss: 1.984 \t acc: 0.267 \t\n",
      "EarlyStopping counter: 19 out of 20\n",
      "\n",
      " training loss: 1.963 \t acc: 0.278 \t\n",
      " validation loss: 1.986 \t acc: 0.265 \t\n",
      "EarlyStopping counter: 20 out of 20\n",
      "Early stopping\n"
     ]
    }
   ],
   "source": [
    "epoch=200\n",
    "training_loss=[]\n",
    "validation_loss=[]\n",
    "\n",
    "for i in range(epoch):\n",
    "    # training step\n",
    "    model.train()\n",
    "    train_loss,train_acc,train_numbers = 0,0,0\n",
    "    for batch_idx, (rhorho_s,rhorho_t,label_s,label_t) in enumerate(train_loader):\n",
    "        opt_g.zero_grad()\n",
    "        rhorho_s = rhorho_s[label_s.sum(axis=1)!=0]\n",
    "        label_s = label_s[label_s.sum(axis=1)!=0]\n",
    "        outputs = model(rhorho_s)\n",
    "        if isinstance(criterion,nn.CrossEntropyLoss):\n",
    "            loss=criterion(outputs,torch.argmax(label_s,axis=1))\n",
    "        else:\n",
    "            loss=criterion(outputs,label_s)\n",
    "        loss.backward()\n",
    "        opt_g.step()\n",
    "        _, predictions = torch.max(outputs, 1)\n",
    "        train_loss += loss.item()*len(rhorho_s)\n",
    "        train_acc += (predictions==torch.argmax(label_s,axis=1)).sum().item()\n",
    "        train_numbers += len(rhorho_s)\n",
    "        print('\\r training loss: %.3f \\t acc: %.3f \\t' %(train_loss/train_numbers,train_acc/train_numbers),end='')\n",
    "    print()\n",
    "    training_loss.append(train_loss/train_numbers)\n",
    "    \n",
    "    # validation step\n",
    "    model.eval()\n",
    "    valid_loss,valid_acc,valid_numbers = 0,0,0\n",
    "    with torch.no_grad():\n",
    "        for batch_idx, (rhorho_s,rhorho_t,label_s,label_t) in enumerate(valid_loader):\n",
    "            rhorho_s = rhorho_s[label_s.sum(axis=1)!=0]\n",
    "            label_s = label_s[label_s.sum(axis=1)!=0]\n",
    "            outputs = model(rhorho_s)\n",
    "            if isinstance(criterion,nn.CrossEntropyLoss):\n",
    "                loss=criterion(outputs,torch.argmax(label_s,axis=1))\n",
    "            else:\n",
    "                loss=criterion(outputs,label_s)\n",
    "            _, predictions = torch.max(outputs, 1)\n",
    "            valid_loss += loss.item()*len(rhorho_s)\n",
    "            valid_acc += (predictions==torch.argmax(label_s,axis=1)).sum().item()\n",
    "            valid_numbers += len(rhorho_s)\n",
    "            print('\\r validation loss: %.3f \\t acc: %.3f \\t' %(valid_loss/valid_numbers,valid_acc/valid_numbers),end='')\n",
    "    print()\n",
    "    validation_loss.append(valid_loss/valid_numbers)\n",
    "\n",
    "    # early stopping\n",
    "    early_stopping(-valid_acc/valid_numbers,model)\n",
    "    if early_stopping.early_stop:\n",
    "        print(\"Early stopping\")\n",
    "        break\n",
    "    print()"
   ]
  },
  {
   "cell_type": "code",
   "execution_count": 14,
   "metadata": {},
   "outputs": [
    {
     "data": {
      "image/png": "[encoded data removed]",
      "text/plain": [
       "<Figure size 432x288 with 1 Axes>"
      ]
     },
     "metadata": {
      "needs_background": "light"
     },
     "output_type": "display_data"
    }
   ],
   "source": [
    "plt.plot(training_loss, label=\"Training loss\")\n",
    "plt.plot(validation_loss, label=\"Validation loss\")\n",
    "\n",
    "plt.legend()\n",
    "\n",
    "plt.xlabel(\"Epoch\")\n",
    "plt.ylabel(\"Loss\")\n",
    "\n",
    "plt.show()"
   ]
  },
  {
   "cell_type": "markdown",
   "metadata": {},
   "source": [
    "### Testing NN"
   ]
  },
  {
   "cell_type": "code",
   "execution_count": 19,
   "metadata": {},
   "outputs": [
    {
     "data": {
      "image/png": "[encoded data removed]",
      "text/plain": [
       "<Figure size 576x576 with 2 Axes>"
      ]
     },
     "metadata": {
      "needs_background": "light"
     },
     "output_type": "display_data"
    }
   ],
   "source": [
    "import seaborn as sns\n",
    "from sklearn.metrics import confusion_matrix\n",
    "\n",
    "model.load_state_dict(torch.load('model/pTEtaPhiE_visible_only.pt'))\n",
    "\n",
    "model.eval()\n",
    "with torch.no_grad():\n",
    "    outputs,labels=[],[]\n",
    "    for batch_idx, (rhorho_s,rhorho_t,label_s,label_t) in enumerate(valid_loader):\n",
    "        outputs.append(model(rhorho_s).detach().cpu())\n",
    "        labels.append(label_s.detach().cpu())\n",
    "outputs=torch.softmax(torch.cat(outputs),axis=1).numpy()\n",
    "labels=np.concatenate(labels)\n",
    "\n",
    "LABELS = range(0,args.NUM_CLASSES-1)\n",
    "conf_matrix = confusion_matrix(np.argmax(labels,axis=1), np.argmax(outputs,axis=1), normalize=\"true\")\n",
    "plt.figure(figsize=(8, 8))\n",
    "sns.heatmap(conf_matrix, xticklabels=LABELS, yticklabels=LABELS, annot=True, square = True, cmap=\"Greens\", fmt='.3f')\n",
    "plt.ylabel('True class')\n",
    "plt.xlabel('Predicted class')\n",
    "plt.show()"
   ]
  },
  {
   "cell_type": "code",
   "execution_count": null,
   "metadata": {},
   "outputs": [],
   "source": []
  }
 ],
 "metadata": {
  "interpreter": {
   "hash": "a66bddab17e5f8cc86d2be3a7845cba491d87a976e1110525dffcb444b25cf7c"
  },
  "kernelspec": {
   "display_name": "Python 3.9.7 (conda)",
   "language": "python",
   "name": "python3"
  },
  "language_info": {
   "codemirror_mode": {
    "name": "ipython",
    "version": 3
   },
   "file_extension": ".py",
   "mimetype": "text/x-python",
   "name": "python",
   "nbconvert_exporter": "python",
   "pygments_lexer": "ipython3",
   "version": "3.9.7"
  },
  "orig_nbformat": 4
 },
 "nbformat": 4,
 "nbformat_minor": 2
}
